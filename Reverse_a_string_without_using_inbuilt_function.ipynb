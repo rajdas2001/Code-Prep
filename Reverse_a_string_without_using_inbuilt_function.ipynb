{
  "nbformat": 4,
  "nbformat_minor": 0,
  "metadata": {
    "colab": {
      "name": "Reverse a string without using inbuilt function",
      "provenance": [],
      "authorship_tag": "ABX9TyPbkcgMaE/errPKXTb6I5aP",
      "include_colab_link": true
    },
    "kernelspec": {
      "name": "python3",
      "display_name": "Python 3"
    },
    "language_info": {
      "name": "python"
    }
  },
  "cells": [
    {
      "cell_type": "markdown",
      "metadata": {
        "id": "view-in-github",
        "colab_type": "text"
      },
      "source": [
        "<a href=\"https://colab.research.google.com/github/rajdas2001/Code-Prep/blob/main/Reverse_a_string_without_using_inbuilt_function.ipynb\" target=\"_parent\"><img src=\"https://colab.research.google.com/assets/colab-badge.svg\" alt=\"Open In Colab\"/></a>"
      ]
    },
    {
      "cell_type": "markdown",
      "metadata": {
        "id": "NKg3ctjpBMNr"
      },
      "source": [
        "Q. Reverse a string without using inbuilt function"
      ]
    },
    {
      "cell_type": "code",
      "metadata": {
        "colab": {
          "base_uri": "https://localhost:8080/"
        },
        "id": "7de7rgj_BDUl",
        "outputId": "58a9882d-463e-416f-d22a-eda821b15ae5"
      },
      "source": [
        "s = 'abcdef'\n",
        "rs = ''\n",
        "for i in s:\n",
        "  rs = i + rs\n",
        "  print(rs)\n",
        "print(\"Reversed String is: \" + rs)"
      ],
      "execution_count": 5,
      "outputs": [
        {
          "output_type": "stream",
          "text": [
            "a\n",
            "ba\n",
            "cba\n",
            "dcba\n",
            "edcba\n",
            "fedcba\n",
            "Reversed String is: fedcba\n"
          ],
          "name": "stdout"
        }
      ]
    }
  ]
}