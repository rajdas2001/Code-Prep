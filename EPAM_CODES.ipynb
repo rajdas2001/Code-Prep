{
  "nbformat": 4,
  "nbformat_minor": 0,
  "metadata": {
    "colab": {
      "name": "EPAM CODES",
      "provenance": [],
      "collapsed_sections": [],
      "authorship_tag": "ABX9TyO1ZEI3vTvCIBDSSsRGNL02",
      "include_colab_link": true
    },
    "kernelspec": {
      "name": "python3",
      "display_name": "Python 3"
    },
    "language_info": {
      "name": "python"
    }
  },
  "cells": [
    {
      "cell_type": "markdown",
      "metadata": {
        "id": "view-in-github",
        "colab_type": "text"
      },
      "source": [
        "<a href=\"https://colab.research.google.com/github/rajdas2001/Code-Prep/blob/main/EPAM_CODES.ipynb\" target=\"_parent\"><img src=\"https://colab.research.google.com/assets/colab-badge.svg\" alt=\"Open In Colab\"/></a>"
      ]
    },
    {
      "cell_type": "code",
      "metadata": {
        "colab": {
          "base_uri": "https://localhost:8080/"
        },
        "id": "tvAEgh0oir4m",
        "outputId": "6250f305-40f5-4fb2-9ee6-12f4d633e348"
      },
      "source": [
        "# left rotation by d places\n",
        "a = [int(n) for n in input().split()]\n",
        "d = int(input())\n",
        "print(a[d:]+a[:d])"
      ],
      "execution_count": 2,
      "outputs": [
        {
          "output_type": "stream",
          "name": "stdout",
          "text": [
            "1 2 3 4 5\n",
            "1\n",
            "[2, 3, 4, 5, 1]\n"
          ]
        }
      ]
    },
    {
      "cell_type": "code",
      "metadata": {
        "colab": {
          "base_uri": "https://localhost:8080/"
        },
        "id": "AsfNL75IZnO4",
        "outputId": "452814bb-3366-4d70-8acc-cf9bf2e3d20f"
      },
      "source": [
        "# right rotation by d places\n",
        "a = [int(n) for n in input().split()]\n",
        "d = int(input())\n",
        "print(a[-d:]+a[:-d])"
      ],
      "execution_count": 3,
      "outputs": [
        {
          "output_type": "stream",
          "name": "stdout",
          "text": [
            "1 2 3 4 5\n",
            "1\n",
            "[5, 1, 2, 3, 4]\n"
          ]
        }
      ]
    },
    {
      "cell_type": "code",
      "metadata": {
        "colab": {
          "base_uri": "https://localhost:8080/"
        },
        "id": "6AWAUKv-aK0A",
        "outputId": "cfee08ec-9ce5-4e7c-9929-004415dc46aa"
      },
      "source": [
        "# string to list\n",
        "string = 'abc'\n",
        "a = list(string)\n",
        "print(a)"
      ],
      "execution_count": 4,
      "outputs": [
        {
          "output_type": "stream",
          "name": "stdout",
          "text": [
            "['a', 'b', 'c']\n"
          ]
        }
      ]
    },
    {
      "cell_type": "code",
      "metadata": {
        "colab": {
          "base_uri": "https://localhost:8080/"
        },
        "id": "xLq4KBYVaUs4",
        "outputId": "216a27a9-d646-458f-c36d-7bec85ba7358"
      },
      "source": [
        "# list to string\n",
        "a = ['a','b','c']\n",
        "string = ''.join([str(i) for i in a])\n",
        "print(string)"
      ],
      "execution_count": 6,
      "outputs": [
        {
          "output_type": "stream",
          "name": "stdout",
          "text": [
            "abc\n"
          ]
        }
      ]
    },
    {
      "cell_type": "code",
      "metadata": {
        "id": "BIxGDX7sePxC"
      },
      "source": [
        ""
      ],
      "execution_count": null,
      "outputs": []
    }
  ]
}