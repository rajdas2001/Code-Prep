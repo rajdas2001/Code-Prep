{
  "nbformat": 4,
  "nbformat_minor": 0,
  "metadata": {
    "colab": {
      "name": "Classes and Objects (Basics).ipynb",
      "provenance": [],
      "authorship_tag": "ABX9TyOCiUC8eBjSKqCfJjYodrdr",
      "include_colab_link": true
    },
    "kernelspec": {
      "display_name": "Python 3",
      "name": "python3"
    },
    "language_info": {
      "name": "python"
    }
  },
  "cells": [
    {
      "cell_type": "markdown",
      "metadata": {
        "id": "view-in-github",
        "colab_type": "text"
      },
      "source": [
        "<a href=\"https://colab.research.google.com/github/rajdas2001/Code-Prep/blob/main/Classes_and_Objects_(Basics).ipynb\" target=\"_parent\"><img src=\"https://colab.research.google.com/assets/colab-badge.svg\" alt=\"Open In Colab\"/></a>"
      ]
    },
    {
      "cell_type": "code",
      "metadata": {
        "id": "Z2EPJLERk0ru"
      },
      "source": [
        "class Robot:\n",
        "    def __init__(self, name, colour, weight):\n",
        "        self.name = name\n",
        "        self.colour = colour\n",
        "        self.weight = weight\n",
        "\n",
        "    def introduce_self(self):\n",
        "        print(\"My name is \" + self.name)\n",
        "        print(\"My Colour is \" + self.colour)\n",
        "        print(\"My weight is \" + str(self.weight))"
      ],
      "execution_count": null,
      "outputs": []
    },
    {
      "cell_type": "code",
      "metadata": {
        "colab": {
          "base_uri": "https://localhost:8080/"
        },
        "id": "gQOKeI2Vk4ZG",
        "outputId": "89f18f69-f4cd-4cc9-b464-32dddc31c881"
      },
      "source": [
        "r1=Robot(\"Tom\",\"Black\",50)\n",
        "r1.introduce_self()"
      ],
      "execution_count": null,
      "outputs": [
        {
          "output_type": "stream",
          "text": [
            "My name is Tom\n",
            "My Colour is Black\n",
            "My weight is 50\n"
          ],
          "name": "stdout"
        }
      ]
    },
    {
      "cell_type": "code",
      "metadata": {
        "colab": {
          "base_uri": "https://localhost:8080/"
        },
        "id": "jlFiUP3mloBx",
        "outputId": "a36b57f8-24f8-4212-95a2-afa3039207e5"
      },
      "source": [
        "r1=Robot(\"Jerry\",\"White\",90)\n",
        "r1.introduce_self()"
      ],
      "execution_count": 18,
      "outputs": [
        {
          "output_type": "stream",
          "text": [
            "My name is Jerry\n",
            "My Colour is White\n",
            "My weight is 90\n"
          ],
          "name": "stdout"
        }
      ]
    },
    {
      "cell_type": "code",
      "metadata": {
        "id": "eGRqv9wh8kKC"
      },
      "source": [
        ""
      ],
      "execution_count": null,
      "outputs": []
    }
  ]
}