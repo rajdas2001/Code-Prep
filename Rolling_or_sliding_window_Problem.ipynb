{
  "nbformat": 4,
  "nbformat_minor": 0,
  "metadata": {
    "colab": {
      "name": "Rolling or sliding window Problem",
      "provenance": [],
      "authorship_tag": "ABX9TyPc7GH8fZDxuBYmhqRwzh1e",
      "include_colab_link": true
    },
    "kernelspec": {
      "name": "python3",
      "display_name": "Python 3"
    },
    "language_info": {
      "name": "python"
    }
  },
  "cells": [
    {
      "cell_type": "markdown",
      "metadata": {
        "id": "view-in-github",
        "colab_type": "text"
      },
      "source": [
        "<a href=\"https://colab.research.google.com/github/rajdas2001/Code-Prep/blob/main/Rolling_or_sliding_window_Problem.ipynb\" target=\"_parent\"><img src=\"https://colab.research.google.com/assets/colab-badge.svg\" alt=\"Open In Colab\"/></a>"
      ]
    },
    {
      "cell_type": "code",
      "execution_count": 3,
      "metadata": {
        "colab": {
          "base_uri": "https://localhost:8080/"
        },
        "id": "sNd7ZgP8QYd3",
        "outputId": "edc1f1d2-6369-4681-8949-d66e75a560ea"
      },
      "outputs": [
        {
          "output_type": "stream",
          "name": "stdout",
          "text": [
            "0 1 2 3 4 5\n",
            "Enter the size of the window: 3\n",
            "[[0, 1, 2], [1, 2, 3], [2, 3, 4], [3, 4, 5]]\n",
            "[0, 1, 2]\n",
            "[1, 2, 3]\n",
            "[2, 3, 4]\n",
            "[3, 4, 5]\n"
          ]
        }
      ],
      "source": [
        "numbers = [int(n) for n in input().split()]\n",
        "\n",
        "new_list = []\n",
        "\n",
        "window_size = int(input(\"Enter the size of the window: \"))\n",
        "for i in range(len(numbers) - window_size + 1):\n",
        "  val = numbers[i:i+window_size]\n",
        "  new_list.append(val)\n",
        "\n",
        "print(new_list)\n",
        "\n",
        "\n",
        "for elements in new_list:\n",
        "  print(elements)"
      ]
    }
  ]
}