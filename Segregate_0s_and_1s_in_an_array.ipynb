{
  "nbformat": 4,
  "nbformat_minor": 0,
  "metadata": {
    "colab": {
      "name": "Segregate 0s and 1s in an array",
      "provenance": [],
      "authorship_tag": "ABX9TyMFVR4/5bcDQzCfSUJ0Fdbv",
      "include_colab_link": true
    },
    "kernelspec": {
      "name": "python3",
      "display_name": "Python 3"
    },
    "language_info": {
      "name": "python"
    }
  },
  "cells": [
    {
      "cell_type": "markdown",
      "metadata": {
        "id": "view-in-github",
        "colab_type": "text"
      },
      "source": [
        "<a href=\"https://colab.research.google.com/github/rajdas2001/Code-Prep/blob/main/Segregate_0s_and_1s_in_an_array.ipynb\" target=\"_parent\"><img src=\"https://colab.research.google.com/assets/colab-badge.svg\" alt=\"Open In Colab\"/></a>"
      ]
    },
    {
      "cell_type": "markdown",
      "metadata": {
        "id": "or1sdYChzMJx"
      },
      "source": [
        "# Q. Segregate 0s and 1s in an array\n",
        "\n",
        "You are given an array of 0s and 1s in random order. Segregate 0s on left side and 1s on right side of the array. Traverse array only once. \n",
        "\n",
        "Input array   =  [0, 1, 0, 1, 0, 0, 1, 1, 1, 0] \n",
        "\n",
        "Output array =  [0, 0, 0, 0, 0, 1, 1, 1, 1, 1] \n"
      ]
    },
    {
      "cell_type": "code",
      "metadata": {
        "id": "l9Yz8akSlBXs",
        "colab": {
          "base_uri": "https://localhost:8080/"
        },
        "outputId": "95466a60-eb80-48ea-c563-a498cf23ae83"
      },
      "source": [
        "numbers = [int(n) for n in input().split()]\n",
        "zeros = []\n",
        "ones = []\n",
        "\n",
        "for elements in numbers:\n",
        "  if elements == 0:\n",
        "    zeros.append(elements)\n",
        "  else:\n",
        "    ones.append(elements)\n",
        "final = zeros + ones\n",
        "print(final)"
      ],
      "execution_count": 2,
      "outputs": [
        {
          "output_type": "stream",
          "text": [
            "1 1 0 1 1 0 0 0 0 1 1 1 0 0 0 \n",
            "[0, 0, 0, 0, 0, 0, 0, 0, 1, 1, 1, 1, 1, 1, 1]\n"
          ],
          "name": "stdout"
        }
      ]
    }
  ]
}