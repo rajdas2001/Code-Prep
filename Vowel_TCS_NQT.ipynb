{
  "nbformat": 4,
  "nbformat_minor": 0,
  "metadata": {
    "colab": {
      "name": "Vowel_TCS_NQT.ipynb",
      "provenance": [],
      "authorship_tag": "ABX9TyN21UQXVrBqc5hlS5IfUnJb",
      "include_colab_link": true
    },
    "kernelspec": {
      "name": "python3",
      "display_name": "Python 3"
    },
    "language_info": {
      "name": "python"
    }
  },
  "cells": [
    {
      "cell_type": "markdown",
      "metadata": {
        "id": "view-in-github",
        "colab_type": "text"
      },
      "source": [
        "<a href=\"https://colab.research.google.com/github/rajdas2001/Code-Prep/blob/main/Vowel_TCS_NQT.ipynb\" target=\"_parent\"><img src=\"https://colab.research.google.com/assets/colab-badge.svg\" alt=\"Open In Colab\"/></a>"
      ]
    },
    {
      "cell_type": "code",
      "metadata": {
        "id": "ncC7wp3nd6JW"
      },
      "source": [
        "a = 0\n",
        "e = 0\n",
        "i = 0\n",
        "o = 0\n",
        "u = 0\n",
        "\n",
        "vowels = 'aeiou' \n",
        "s = input(\"Enter the string\")\n",
        "result = False \n",
        "for ch in s: \n",
        "\tif ch in vowels: \n",
        "\t\tresult = True \n",
        "\t\tbreak # can stop loop after first vowel found \n",
        "result = any(ch in vowels for ch in s) \n",
        "\n",
        "if result == True:\n",
        "  for elements in s:\n",
        "    if elements == 'a':\n",
        "      a=a+1\n",
        "    elif elements == 'e':\n",
        "      e=e+1\n",
        "    elif elements == 'i':\n",
        "      i=i+1\n",
        "    elif elements == 'o':\n",
        "      o=o+1\n",
        "    elif elements == 'u':\n",
        "      u=u+1\n",
        "  print(\"a:\"+str(a))\n",
        "  print(\"e:\"+str(e))\n",
        "  print(\"i:\"+str(i))\n",
        "  print(\"o:\"+str(o))\n",
        "  print(\"u:\"+str(u))\n",
        "    \n",
        "else:\n",
        "  print(\"0\")\n",
        "\n"
      ],
      "execution_count": null,
      "outputs": []
    }
  ]
}