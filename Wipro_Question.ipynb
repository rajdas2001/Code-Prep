{
  "nbformat": 4,
  "nbformat_minor": 0,
  "metadata": {
    "colab": {
      "name": "Wipro Question",
      "provenance": [],
      "authorship_tag": "ABX9TyMQtTWFo1L0TO+KAoLHW4Vv",
      "include_colab_link": true
    },
    "kernelspec": {
      "name": "python3",
      "display_name": "Python 3"
    },
    "language_info": {
      "name": "python"
    }
  },
  "cells": [
    {
      "cell_type": "markdown",
      "metadata": {
        "id": "view-in-github",
        "colab_type": "text"
      },
      "source": [
        "<a href=\"https://colab.research.google.com/github/rajdas2001/Code-Prep/blob/main/Wipro_Question.ipynb\" target=\"_parent\"><img src=\"https://colab.research.google.com/assets/colab-badge.svg\" alt=\"Open In Colab\"/></a>"
      ]
    },
    {
      "cell_type": "code",
      "metadata": {
        "colab": {
          "base_uri": "https://localhost:8080/"
        },
        "id": "Di0GcVl_79mc",
        "outputId": "3bbe363e-627a-4a2d-83fe-74e56b734862"
      },
      "source": [
        "numbers = [int(n) for n in input().split()]\n",
        "m = max(numbers)\n",
        "numbers.remove(m)\n",
        "m2 = max(numbers)\n",
        "print(m2)"
      ],
      "execution_count": 1,
      "outputs": [
        {
          "output_type": "stream",
          "name": "stdout",
          "text": [
            "1 2 3 4 5\n",
            "4\n"
          ]
        }
      ]
    }
  ]
}