{
  "nbformat": 4,
  "nbformat_minor": 0,
  "metadata": {
    "colab": {
      "name": "Left rotate Array by 1",
      "provenance": [],
      "authorship_tag": "ABX9TyNde43Er/Pn4bVDtsLUP8gu",
      "include_colab_link": true
    },
    "kernelspec": {
      "name": "python3",
      "display_name": "Python 3"
    },
    "language_info": {
      "name": "python"
    }
  },
  "cells": [
    {
      "cell_type": "markdown",
      "metadata": {
        "id": "view-in-github",
        "colab_type": "text"
      },
      "source": [
        "<a href=\"https://colab.research.google.com/github/rajdas2001/Code-Prep/blob/main/Left_rotate_Array_by_1.ipynb\" target=\"_parent\"><img src=\"https://colab.research.google.com/assets/colab-badge.svg\" alt=\"Open In Colab\"/></a>"
      ]
    },
    {
      "cell_type": "code",
      "metadata": {
        "colab": {
          "base_uri": "https://localhost:8080/"
        },
        "id": "ZyAuWVgGcgFc",
        "outputId": "ba7b4343-0ed9-44b1-a608-4c61bd808d24"
      },
      "source": [
        "a = [1,2,3,4,5]\n",
        "temp = a[0]\n",
        "for i in range(1,len(a)):\n",
        "  a[i-1] = a[i]\n",
        "a[-1] = temp\n",
        "print(a)"
      ],
      "execution_count": 4,
      "outputs": [
        {
          "output_type": "stream",
          "name": "stdout",
          "text": [
            "[2, 3, 4, 5, 1]\n"
          ]
        }
      ]
    }
  ]
}