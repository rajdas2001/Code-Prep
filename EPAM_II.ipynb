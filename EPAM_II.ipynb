{
  "nbformat": 4,
  "nbformat_minor": 0,
  "metadata": {
    "colab": {
      "name": "EPAM II",
      "provenance": [],
      "collapsed_sections": [],
      "authorship_tag": "ABX9TyORsLlf8xWZM7M6r6bZOYFx",
      "include_colab_link": true
    },
    "kernelspec": {
      "name": "python3",
      "display_name": "Python 3"
    },
    "language_info": {
      "name": "python"
    }
  },
  "cells": [
    {
      "cell_type": "markdown",
      "metadata": {
        "id": "view-in-github",
        "colab_type": "text"
      },
      "source": [
        "<a href=\"https://colab.research.google.com/github/rajdas2001/Code-Prep/blob/main/EPAM_II.ipynb\" target=\"_parent\"><img src=\"https://colab.research.google.com/assets/colab-badge.svg\" alt=\"Open In Colab\"/></a>"
      ]
    },
    {
      "cell_type": "code",
      "metadata": {
        "colab": {
          "base_uri": "https://localhost:8080/"
        },
        "id": "M1UKkaCbrNVf",
        "outputId": "c4a1ed1c-be05-4fba-9cc3-072279fd0cc7"
      },
      "source": [
        "numbers = [int(n) for n in input().split()]\n",
        "l = len(numbers)\n",
        "median = 0\n",
        "if l%2 == 0:\n",
        "  median = numbers[l//2]\n",
        "else:\n",
        "  median = (numbers[(l-1)//2] + numbers[(l+1)//2])/2\n",
        "print(median)"
      ],
      "execution_count": null,
      "outputs": [
        {
          "name": "stdout",
          "output_type": "stream",
          "text": [
            "1 2 3 4 5\n"
          ]
        }
      ]
    },
    {
      "cell_type": "code",
      "metadata": {
        "colab": {
          "base_uri": "https://localhost:8080/"
        },
        "id": "HEkHC1jyHVH-",
        "outputId": "0f4620d4-7b68-4ac2-b061-d4d10a52d2c2"
      },
      "source": [
        "from itertools import combinations\n",
        "\n",
        "def pws(s):\n",
        "  newlist = [[]]\n",
        "  for i in range(1,len(s)+1):\n",
        "    c = combinations(s,i)\n",
        "    for i in c:\n",
        "        newlist.append(list(i))\n",
        "  return newlist\n",
        "\n",
        "def prime(x):\n",
        "  ctr = 0\n",
        "  for i in range(x):\n",
        "    if x % i == 0:\n",
        "      ctr = ctr + 1\n",
        "  if ctr == 2:\n",
        "    return 1\n",
        "  else:\n",
        "    return 0\n",
        "\n",
        "n = int(input())\n",
        "digit_arr = []\n",
        "final = []\n",
        "val = []\n",
        "\n",
        "temp = n\n",
        "while temp>0:\n",
        "  digits = temp%10\n",
        "  temp = temp/10\n",
        "  digit_arr.append(digits)\n",
        "\n",
        "for elements in digit_arr:\n",
        "  if elements in prime:\n",
        "    final.append(elements)\n",
        "print(final)\n",
        "val = pws(final)\n",
        "print(val)\n",
        "\n",
        "s = 0\n",
        "\n",
        "for elements in val:\n",
        "  s = s + sum(elements)\n",
        "print(s)\n",
        "\n",
        "\n"
      ],
      "execution_count": null,
      "outputs": [
        {
          "output_type": "stream",
          "name": "stdout",
          "text": [
            "12234\n",
            "[]\n",
            "[[]]\n",
            "0\n"
          ]
        }
      ]
    },
    {
      "cell_type": "code",
      "metadata": {
        "colab": {
          "base_uri": "https://localhost:8080/"
        },
        "id": "Amu4T7V5Kvin",
        "outputId": "d7272a77-3c9b-438f-9838-0cf4bb287396"
      },
      "source": [
        "\n",
        "def printSubStr(str, low, high):\n",
        "\t\n",
        "\tfor i in range(low, high + 1):\n",
        "\t\tprint(str[i], end = \"\")\n",
        "\n",
        "\n",
        "def longestPalSubstr(str):\n",
        "\t\n",
        "\t\n",
        "\tn = len(str)\n",
        "\tmaxLength = 1\n",
        "\tstart = 0\n",
        "\t\n",
        "\tfor i in range(n):\n",
        "\t\tfor j in range(i, n):\n",
        "\t\t\tflag = 1\n",
        "\t\t\t\n",
        "\t\t\n",
        "\t\t\tfor k in range(0, ((j - i) // 2) + 1):\n",
        "\t\t\t\tif (str[i + k] != str[j - k]):\n",
        "\t\t\t\t\tflag = 0\n",
        "\n",
        "\t\n",
        "\t\t\tif (flag != 0 and (j - i + 1) > maxLength):\n",
        "\t\t\t\tstart = i\n",
        "\t\t\t\tmaxLength = j - i + 1\n",
        "\t\t\t\t\n",
        "\tprint(\"Longest palindrome subString is: \", end = \"\")\n",
        "\tprintSubStr(str, start, start + maxLength - 1)\n",
        "\n",
        "\treturn maxLength\n",
        "\n",
        "\n",
        "if __name__ == '__main__':\n",
        "\n",
        "\tstr = \"forgeeksskeegfor\"\n",
        "\t\n",
        "\tprint(\"\\nLength is: \", longestPalSubstr(str))\n",
        "\n"
      ],
      "execution_count": null,
      "outputs": [
        {
          "output_type": "stream",
          "name": "stdout",
          "text": [
            "Yes\n"
          ]
        }
      ]
    },
    {
      "cell_type": "code",
      "metadata": {
        "colab": {
          "base_uri": "https://localhost:8080/"
        },
        "id": "huqKV63g1lJQ",
        "outputId": "e0016554-40fc-4f76-9373-d0748148153f"
      },
      "source": [
        "string = input()\n",
        "for i in set(string):\n",
        "  print(i, string.count(i))"
      ],
      "execution_count": null,
      "outputs": [
        {
          "output_type": "stream",
          "name": "stdout",
          "text": [
            "abca\n",
            "b 1\n",
            "c 1\n",
            "a 2\n"
          ]
        }
      ]
    },
    {
      "cell_type": "code",
      "metadata": {
        "colab": {
          "base_uri": "https://localhost:8080/"
        },
        "id": "Jm-_WUwK1m-Y",
        "outputId": "8967d1db-5cb7-4fe9-9462-bad2b5e890e4"
      },
      "source": [
        "\n",
        "def prCharWithFreq(str):\n",
        "\n",
        "\td = {}\n",
        "\tfor i in str:\n",
        "\t\tif i in d:\n",
        "\t\t\td[i] += 1\n",
        "\t\telse:\n",
        "\t\t\td[i] = 1\n",
        "\t\n",
        "\n",
        "\tfor i in str:\n",
        "\t\tif d[i] != 0:\n",
        "\t\t\tprint(\"{}{}\".format(i,d[i]), end =\" \")\n",
        "\t\t\td[i] = 0\n",
        "\t\n",
        "\t\n",
        "\n",
        "if __name__ == \"__main__\" :\n",
        "\t\n",
        "\tstr = \"geeksforgeeks\";\n",
        "\tprCharWithFreq(str);\n",
        "\n"
      ],
      "execution_count": null,
      "outputs": [
        {
          "output_type": "stream",
          "name": "stdout",
          "text": [
            "g2 e4 k2 s2 f1 o1 r1 "
          ]
        }
      ]
    },
    {
      "cell_type": "code",
      "metadata": {
        "id": "JUp4v7Exkik0"
      },
      "source": [
        "\n",
        "def minSwaps(arr):\n",
        "\tn = len(arr)\n",
        "\tarrpos = [*enumerate(arr)]\n",
        "\tarrpos.sort(key = lambda it : it[1])\n",
        "\tvis = {k : False for k in range(n)}\n",
        "\tans = 0\n",
        "\tfor i in range(n):\n",
        "\t\tif vis[i] or arrpos[i][0] == i:\n",
        "\t\t\tcontinue\n",
        "\t\tcycle_size = 0\n",
        "\t\tj = i\n",
        "\t\t\n",
        "\t\twhile not vis[j]:\n",
        "\t\t\tvis[j] = True\n",
        "\t\t\tj = arrpos[j][0]\n",
        "\t\t\tcycle_size += 1\n",
        "\n",
        "\t\tif cycle_size > 0:\n",
        "\t\t\tans += (cycle_size - 1)\n",
        "\n",
        "\treturn ans\n",
        "\n",
        "\n",
        "arr = [1, 5, 4, 3, 2]\n",
        "print(minSwaps(arr))\n"
      ],
      "execution_count": null,
      "outputs": []
    },
    {
      "cell_type": "code",
      "metadata": {
        "id": "31sTGJEGm4Jr"
      },
      "source": [
        "numbers = [int(n) for n in input().split()]"
      ],
      "execution_count": null,
      "outputs": []
    },
    {
      "cell_type": "code",
      "metadata": {
        "id": "n9UeXDtJopFQ"
      },
      "source": [
        "l = 10\n",
        "a = int(input())\n",
        "arr = []\n",
        "for i in range(a):\n",
        "  arr.append(i)\n"
      ],
      "execution_count": null,
      "outputs": []
    }
  ]
}