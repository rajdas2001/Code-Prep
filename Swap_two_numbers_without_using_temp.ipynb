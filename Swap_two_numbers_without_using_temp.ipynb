{
  "nbformat": 4,
  "nbformat_minor": 0,
  "metadata": {
    "colab": {
      "name": "Swap two numbers without using temp",
      "provenance": [],
      "authorship_tag": "ABX9TyOoUgORQp+xjEyTBsqstDno",
      "include_colab_link": true
    },
    "kernelspec": {
      "name": "python3",
      "display_name": "Python 3"
    },
    "language_info": {
      "name": "python"
    }
  },
  "cells": [
    {
      "cell_type": "markdown",
      "metadata": {
        "id": "view-in-github",
        "colab_type": "text"
      },
      "source": [
        "<a href=\"https://colab.research.google.com/github/rajdas2001/Code-Prep/blob/main/Swap_two_numbers_without_using_temp.ipynb\" target=\"_parent\"><img src=\"https://colab.research.google.com/assets/colab-badge.svg\" alt=\"Open In Colab\"/></a>"
      ]
    },
    {
      "cell_type": "markdown",
      "metadata": {
        "id": "zAm3Zp2dPYgq"
      },
      "source": [
        "Q. Swap two numbers without using temp"
      ]
    },
    {
      "cell_type": "code",
      "metadata": {
        "colab": {
          "base_uri": "https://localhost:8080/"
        },
        "id": "tWZCwxgyOHeR",
        "outputId": "2e3b068b-eada-4540-b8cf-487feb39cfe4"
      },
      "source": [
        "a = 10\n",
        "b = 5\n",
        "a = a + b\n",
        "b = a - b\n",
        "a = a - b\n",
        "print(a)\n",
        "print(b)"
      ],
      "execution_count": 1,
      "outputs": [
        {
          "output_type": "stream",
          "text": [
            "5\n",
            "10\n"
          ],
          "name": "stdout"
        }
      ]
    }
  ]
}