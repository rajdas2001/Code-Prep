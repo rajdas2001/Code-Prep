{
  "nbformat": 4,
  "nbformat_minor": 0,
  "metadata": {
    "colab": {
      "name": "Armstrong number",
      "provenance": [],
      "authorship_tag": "ABX9TyN20DGwYM5VvglEWetBawq+",
      "include_colab_link": true
    },
    "kernelspec": {
      "name": "python3",
      "display_name": "Python 3"
    },
    "language_info": {
      "name": "python"
    }
  },
  "cells": [
    {
      "cell_type": "markdown",
      "metadata": {
        "id": "view-in-github",
        "colab_type": "text"
      },
      "source": [
        "<a href=\"https://colab.research.google.com/github/rajdas2001/Code-Prep/blob/main/Armstrong_number.ipynb\" target=\"_parent\"><img src=\"https://colab.research.google.com/assets/colab-badge.svg\" alt=\"Open In Colab\"/></a>"
      ]
    },
    {
      "cell_type": "code",
      "metadata": {
        "colab": {
          "base_uri": "https://localhost:8080/"
        },
        "id": "3iXfiFw5lfiW",
        "outputId": "b657ea7b-0082-4479-eefa-1725bd02cb97"
      },
      "source": [
        "num = int(input(\"Enter the number\"))\n",
        "val = 0\n",
        "temp = num\n",
        "sum = 0\n",
        "while temp>0:\n",
        "  val=temp%10\n",
        "  sum = sum + val*val*val\n",
        "  temp=temp//10\n",
        "print(sum)\n",
        "\n",
        "if sum==num:\n",
        "  print(\"True\")\n",
        "else:\n",
        "  print(\"False\")\n",
        "\n",
        "\n",
        "\n"
      ],
      "execution_count": 5,
      "outputs": [
        {
          "output_type": "stream",
          "text": [
            "Enter the number153\n",
            "153\n",
            "True\n"
          ],
          "name": "stdout"
        }
      ]
    }
  ]
}