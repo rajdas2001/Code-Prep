{
  "nbformat": 4,
  "nbformat_minor": 0,
  "metadata": {
    "colab": {
      "name": "TalentSprint TCS NQT",
      "provenance": [],
      "authorship_tag": "ABX9TyNHppyHOK1twHbDe0nghet0",
      "include_colab_link": true
    },
    "kernelspec": {
      "name": "python3",
      "display_name": "Python 3"
    },
    "language_info": {
      "name": "python"
    }
  },
  "cells": [
    {
      "cell_type": "markdown",
      "metadata": {
        "id": "view-in-github",
        "colab_type": "text"
      },
      "source": [
        "<a href=\"https://colab.research.google.com/github/rajdas2001/Code-Prep/blob/main/TalentSprint_TCS_NQT.ipynb\" target=\"_parent\"><img src=\"https://colab.research.google.com/assets/colab-badge.svg\" alt=\"Open In Colab\"/></a>"
      ]
    },
    {
      "cell_type": "markdown",
      "metadata": {
        "id": "a81xbE7fWW6f"
      },
      "source": [
        "Q1. Given an array A of integers, return the second largest element"
      ]
    },
    {
      "cell_type": "code",
      "metadata": {
        "colab": {
          "base_uri": "https://localhost:8080/"
        },
        "id": "Petz-0aonzwZ",
        "outputId": "7dce41f9-6cea-46e8-a435-8abec4859681"
      },
      "source": [
        "a=[1,2,3,4,5,6,8,10]\n",
        "even_ar=[]\n",
        "for elements in a:\n",
        "  if elements%2==0:\n",
        "    even_ar.append(elements)\n",
        "even_ar.sort(reverse=True)\n",
        "print(even_ar[1])"
      ],
      "execution_count": 4,
      "outputs": [
        {
          "output_type": "stream",
          "text": [
            "8\n"
          ],
          "name": "stdout"
        }
      ]
    },
    {
      "cell_type": "markdown",
      "metadata": {
        "id": "cTe_EEMXWif2"
      },
      "source": [
        "Q2. Given a number n, return the smallest palindrome number larger than n.\n",
        "or return the next palindrome number"
      ]
    },
    {
      "cell_type": "code",
      "metadata": {
        "colab": {
          "base_uri": "https://localhost:8080/"
        },
        "id": "21sDtnG7kehu",
        "outputId": "92af7266-60b1-48c8-dc5b-ed84db8efb5c"
      },
      "source": [
        "def reverse(num):\n",
        "    reverse= 0\n",
        "    while num:\n",
        "        reverse= reverse*10 + num%10\n",
        "        num= num//10\n",
        "    return reverse\n",
        "\n",
        "num= int(input(\"Enter any number :- \"))\n",
        "if num==reverse(num):\n",
        "    print (\"Already palindrome.\")\n",
        "else:\n",
        "    while True:\n",
        "        num+= 1\n",
        "        if num==reverse(num):\n",
        "            print (\"Next palindrome is : %s\"%num)\n",
        "            break"
      ],
      "execution_count": 3,
      "outputs": [
        {
          "output_type": "stream",
          "text": [
            "Enter any number :- 123\n",
            "Next palindrome is : 131\n"
          ],
          "name": "stdout"
        }
      ]
    },
    {
      "cell_type": "code",
      "metadata": {
        "id": "JyqTdeHIWQzQ"
      },
      "source": [
        "def reverse(num):\n",
        "  rev=0\n",
        "  while(num>0):\n",
        "    digit=num%10\n",
        "    rev=10*rev+digit\n",
        "    num=num/10\n",
        "    return rev\n",
        "def isPalindrome(num):\n",
        "  return num==reverse(num)\n",
        "def nextPalindrome(num):\n",
        "  while(not isPalindrome(num)):\n",
        "    num=num+1\n",
        "  return num \n",
        "\n",
        "nextPalindrome(121)"
      ],
      "execution_count": null,
      "outputs": []
    }
  ]
}