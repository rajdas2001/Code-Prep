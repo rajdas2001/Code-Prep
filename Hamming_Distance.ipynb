{
  "nbformat": 4,
  "nbformat_minor": 0,
  "metadata": {
    "colab": {
      "name": "Hamming Distance.ipynb",
      "provenance": [],
      "authorship_tag": "ABX9TyMIyR+ZWow/VT6YzDh2jFoT",
      "include_colab_link": true
    },
    "kernelspec": {
      "name": "python3",
      "display_name": "Python 3"
    },
    "language_info": {
      "name": "python"
    }
  },
  "cells": [
    {
      "cell_type": "markdown",
      "metadata": {
        "id": "view-in-github",
        "colab_type": "text"
      },
      "source": [
        "<a href=\"https://colab.research.google.com/github/rajdas2001/Code-Prep/blob/main/Hamming_Distance.ipynb\" target=\"_parent\"><img src=\"https://colab.research.google.com/assets/colab-badge.svg\" alt=\"Open In Colab\"/></a>"
      ]
    },
    {
      "cell_type": "code",
      "metadata": {
        "colab": {
          "base_uri": "https://localhost:8080/"
        },
        "id": "bKiLf1N85ivh",
        "outputId": "87e3aa2c-6825-43c9-957f-79b14c245ef5"
      },
      "source": [
        "a = int(input(\"Enter number 1: \"))\n",
        "b = int(input(\"Enter number 2: \"))\n",
        "\n",
        "x = a^b\n",
        "setBits = 0\n",
        "\n",
        "while(x > 0):\n",
        "  setBits = setBits + (x & 1)\n",
        "  x = x >> 1\n",
        "\n",
        "print(setBits)"
      ],
      "execution_count": 7,
      "outputs": [
        {
          "output_type": "stream",
          "text": [
            "Enter number 1: 9\n",
            "Enter number 2: 14\n",
            "3\n"
          ],
          "name": "stdout"
        }
      ]
    }
  ]
}