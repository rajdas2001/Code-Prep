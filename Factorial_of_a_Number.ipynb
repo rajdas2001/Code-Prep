{
  "nbformat": 4,
  "nbformat_minor": 0,
  "metadata": {
    "colab": {
      "name": "Factorial of a Number",
      "provenance": [],
      "authorship_tag": "ABX9TyMXgEKFjbzHTE+FdpPIfhNs",
      "include_colab_link": true
    },
    "kernelspec": {
      "name": "python3",
      "display_name": "Python 3"
    },
    "language_info": {
      "name": "python"
    }
  },
  "cells": [
    {
      "cell_type": "markdown",
      "metadata": {
        "id": "view-in-github",
        "colab_type": "text"
      },
      "source": [
        "<a href=\"https://colab.research.google.com/github/rajdas2001/Code-Prep/blob/main/Factorial_of_a_Number.ipynb\" target=\"_parent\"><img src=\"https://colab.research.google.com/assets/colab-badge.svg\" alt=\"Open In Colab\"/></a>"
      ]
    },
    {
      "cell_type": "code",
      "metadata": {
        "colab": {
          "base_uri": "https://localhost:8080/"
        },
        "id": "II1fCc4bCCfK",
        "outputId": "6b134e04-16f9-44c4-e2b2-bff7197b6ef9"
      },
      "source": [
        "num = int(input())\n",
        "temp = num\n",
        "f = 1\n",
        "while temp > 0:\n",
        "  f = f * temp\n",
        "  temp = temp - 1\n",
        "print(f) "
      ],
      "execution_count": 1,
      "outputs": [
        {
          "output_type": "stream",
          "name": "stdout",
          "text": [
            "3\n",
            "6\n"
          ]
        }
      ]
    }
  ]
}