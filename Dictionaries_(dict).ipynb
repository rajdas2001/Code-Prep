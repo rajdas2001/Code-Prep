{
  "nbformat": 4,
  "nbformat_minor": 0,
  "metadata": {
    "colab": {
      "name": "Dictionaries (dict)",
      "provenance": [],
      "authorship_tag": "ABX9TyPaMZpKvR+arslnhfM+2qA2",
      "include_colab_link": true
    },
    "kernelspec": {
      "name": "python3",
      "display_name": "Python 3"
    },
    "language_info": {
      "name": "python"
    }
  },
  "cells": [
    {
      "cell_type": "markdown",
      "metadata": {
        "id": "view-in-github",
        "colab_type": "text"
      },
      "source": [
        "<a href=\"https://colab.research.google.com/github/rajdas2001/Code-Prep/blob/main/Dictionaries_(dict).ipynb\" target=\"_parent\"><img src=\"https://colab.research.google.com/assets/colab-badge.svg\" alt=\"Open In Colab\"/></a>"
      ]
    },
    {
      "cell_type": "markdown",
      "metadata": {
        "id": "CDl5KkhhdskA"
      },
      "source": [
        "#About\n",
        "1. Key/Value pairs\n",
        "2. Associative array, like Java HashMap\n",
        "3. Dicts are Unordered"
      ]
    },
    {
      "cell_type": "code",
      "metadata": {
        "colab": {
          "base_uri": "https://localhost:8080/"
        },
        "id": "O3Lbb6CndlTe",
        "outputId": "5dd5a499-0013-40db-b12a-9c46e3e18dcf"
      },
      "source": [
        "x = {'pork':25.3, 'beef':33.8, 'chicken':22.7}\n",
        "print(x)"
      ],
      "execution_count": 2,
      "outputs": [
        {
          "output_type": "stream",
          "text": [
            "{'pork': 25.3, 'beef': 33.8, 'chicken': 22.7}\n"
          ],
          "name": "stdout"
        }
      ]
    },
    {
      "cell_type": "code",
      "metadata": {
        "colab": {
          "base_uri": "https://localhost:8080/"
        },
        "id": "-3Zg_2wLd5dq",
        "outputId": "7fb2063c-bfd3-493d-ae36-45a6b7940fa7"
      },
      "source": [
        "x = dict([('pork', 25.3),('beef', 33.8),('chicken', 22.7)])\n",
        "print(x)"
      ],
      "execution_count": 4,
      "outputs": [
        {
          "output_type": "stream",
          "text": [
            "{'pork': 25.3, 'beef': 33.8, 'chicken': 22.7}\n"
          ],
          "name": "stdout"
        }
      ]
    },
    {
      "cell_type": "code",
      "metadata": {
        "colab": {
          "base_uri": "https://localhost:8080/"
        },
        "id": "Q6aVBuEod-vA",
        "outputId": "f9caa08d-5972-4e1d-fb32-fbf42ba75056"
      },
      "source": [
        "x = dict(pork=25.3, beef=33.8, chicken=22.7)\n",
        "print(x)"
      ],
      "execution_count": 5,
      "outputs": [
        {
          "output_type": "stream",
          "text": [
            "{'pork': 25.3, 'beef': 33.8, 'chicken': 22.7}\n"
          ],
          "name": "stdout"
        }
      ]
    },
    {
      "cell_type": "markdown",
      "metadata": {
        "id": "htB15SykeE4l"
      },
      "source": [
        "#Dictionary Operations"
      ]
    },
    {
      "cell_type": "code",
      "metadata": {
        "colab": {
          "base_uri": "https://localhost:8080/"
        },
        "id": "9AT5yRKNeL5i",
        "outputId": "152dd5c5-4976-4741-cff7-f934afb43782"
      },
      "source": [
        "x['shrimp'] = 38.2    # add or update\n",
        "print(x)\n",
        "\n",
        "# delete an item\n",
        "del(x['shrimp'])\n",
        "print(x)\n",
        "\n",
        "# get length of dict x\n",
        "print(len(x))\n",
        "\n",
        "# delete all items from dict x\n",
        "x.clear()\n",
        "print(x)\n",
        "\n",
        "# delete dict x\n",
        "del(x)"
      ],
      "execution_count": 7,
      "outputs": [
        {
          "output_type": "stream",
          "text": [
            "{'pork': 25.3, 'beef': 33.8, 'chicken': 22.7, 'shrimp': 38.2}\n",
            "{'pork': 25.3, 'beef': 33.8, 'chicken': 22.7}\n",
            "3\n",
            "{}\n"
          ],
          "name": "stdout"
        }
      ]
    },
    {
      "cell_type": "markdown",
      "metadata": {
        "id": "KLkZhJ3AenZA"
      },
      "source": [
        "#Accessing keys and values in a dict"
      ]
    },
    {
      "cell_type": "code",
      "metadata": {
        "colab": {
          "base_uri": "https://localhost:8080/"
        },
        "id": "ijkOQ3d7eRHP",
        "outputId": "dbcdc154-0167-47f0-954e-989cc4f7bd30"
      },
      "source": [
        "y = {'pork':25.3, 'beef':33.8, 'chicken':22.7}\n",
        "print(y.keys())\n",
        "print(y.values())\n",
        "print(y.items())      # key-value pairs\n",
        "\n",
        "# check membership in y_keys (only looks in keys, not values)\n",
        "print('beef' in y)\n",
        "\n",
        "# check membership in y_values\n",
        "print('clams' in y.values())"
      ],
      "execution_count": 8,
      "outputs": [
        {
          "output_type": "stream",
          "text": [
            "dict_keys(['pork', 'beef', 'chicken'])\n",
            "dict_values([25.3, 33.8, 22.7])\n",
            "dict_items([('pork', 25.3), ('beef', 33.8), ('chicken', 22.7)])\n",
            "True\n",
            "False\n"
          ],
          "name": "stdout"
        }
      ]
    },
    {
      "cell_type": "markdown",
      "metadata": {
        "id": "XNjcaauDgbvA"
      },
      "source": [
        "#Iterating a dict - note, items are in random order"
      ]
    },
    {
      "cell_type": "code",
      "metadata": {
        "colab": {
          "base_uri": "https://localhost:8080/"
        },
        "id": "1m7veK90geIq",
        "outputId": "70305f7d-b8aa-4b89-e104-a01b1461cfa8"
      },
      "source": [
        "for key in y:\n",
        "    print(key, y[key])\n",
        "    \n",
        "for k, v in y.items():\n",
        "    print(k, v)"
      ],
      "execution_count": 9,
      "outputs": [
        {
          "output_type": "stream",
          "text": [
            "pork 25.3\n",
            "beef 33.8\n",
            "chicken 22.7\n",
            "pork 25.3\n",
            "beef 33.8\n",
            "chicken 22.7\n"
          ],
          "name": "stdout"
        }
      ]
    },
    {
      "cell_type": "code",
      "metadata": {
        "id": "V1McQJpUgr-n"
      },
      "source": [
        ""
      ],
      "execution_count": null,
      "outputs": []
    }
  ]
}