{
  "nbformat": 4,
  "nbformat_minor": 0,
  "metadata": {
    "colab": {
      "name": "Reverse an array without using inbuilt functions",
      "provenance": [],
      "authorship_tag": "ABX9TyM4kvMQycajUsZhF3pjIplg",
      "include_colab_link": true
    },
    "kernelspec": {
      "name": "python3",
      "display_name": "Python 3"
    },
    "language_info": {
      "name": "python"
    }
  },
  "cells": [
    {
      "cell_type": "markdown",
      "metadata": {
        "id": "view-in-github",
        "colab_type": "text"
      },
      "source": [
        "<a href=\"https://colab.research.google.com/github/rajdas2001/Code-Prep/blob/main/Reverse_an_array_without_using_inbuilt_functions.ipynb\" target=\"_parent\"><img src=\"https://colab.research.google.com/assets/colab-badge.svg\" alt=\"Open In Colab\"/></a>"
      ]
    },
    {
      "cell_type": "markdown",
      "metadata": {
        "id": "oKiJ2AWdGkb0"
      },
      "source": [
        "Q. Reverse an array without using inbuilt functions"
      ]
    },
    {
      "cell_type": "code",
      "metadata": {
        "colab": {
          "base_uri": "https://localhost:8080/"
        },
        "id": "msGKRWBLGbDe",
        "outputId": "90387991-d436-49b0-b2c7-85d73a7a6466"
      },
      "source": [
        "arr = [2,3,4,1,5,6]\n",
        "temp = 0\n",
        "l = len(arr)\n",
        "for i in range(int(l/2)):\n",
        "  temp = arr[i]\n",
        "  arr[i] = arr[l - i - 1]\n",
        "  arr[l - i - 1] = temp\n",
        "print(arr)"
      ],
      "execution_count": 6,
      "outputs": [
        {
          "output_type": "stream",
          "text": [
            "[6, 5, 1, 4, 3, 2]\n"
          ],
          "name": "stdout"
        }
      ]
    },
    {
      "cell_type": "code",
      "metadata": {
        "colab": {
          "base_uri": "https://localhost:8080/"
        },
        "id": "QxLPldVtLI16",
        "outputId": "f0017ec0-28bd-40ba-81c4-354b5388a8bd"
      },
      "source": [
        "numbers = [int(n) for n in input().split()]\n",
        "temp = 0\n",
        "l = len(numbers)\n",
        "for i in range(int(l/2)):\n",
        "  temp = numbers[i]\n",
        "  numbers[i] = numbers[l - i - 1]\n",
        "  numbers[l - i - 1] = temp\n",
        "print(numbers)"
      ],
      "execution_count": 10,
      "outputs": [
        {
          "output_type": "stream",
          "text": [
            "1 2 4\n",
            "[4, 2, 1]\n"
          ],
          "name": "stdout"
        }
      ]
    }
  ]
}