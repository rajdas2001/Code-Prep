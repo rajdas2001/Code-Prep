{
  "nbformat": 4,
  "nbformat_minor": 0,
  "metadata": {
    "colab": {
      "name": "Rough Codes.ipynb",
      "provenance": [],
      "authorship_tag": "ABX9TyPXBb1ZjsqxkXd2AF+bg9OZ",
      "include_colab_link": true
    },
    "kernelspec": {
      "name": "python3",
      "display_name": "Python 3"
    },
    "language_info": {
      "name": "python"
    }
  },
  "cells": [
    {
      "cell_type": "markdown",
      "metadata": {
        "id": "view-in-github",
        "colab_type": "text"
      },
      "source": [
        "<a href=\"https://colab.research.google.com/github/rajdas2001/Code-Prep/blob/main/Rough_Codes.ipynb\" target=\"_parent\"><img src=\"https://colab.research.google.com/assets/colab-badge.svg\" alt=\"Open In Colab\"/></a>"
      ]
    },
    {
      "cell_type": "code",
      "metadata": {
        "colab": {
          "base_uri": "https://localhost:8080/"
        },
        "id": "ubE700Iuu0ap",
        "outputId": "b25d582e-9a11-4d76-ae62-e53fab044b42"
      },
      "source": [
        "# A python program to find if\n",
        "# there is a zero sum subarray\n",
        "\n",
        "\n",
        "def subArrayExists(arr, n):\n",
        "\t# traverse through array\n",
        "\t# and store prefix sums\n",
        "\tn_sum = 0\n",
        "\ts = set()\n",
        "\n",
        "\tfor i in range(n):\n",
        "\t\tn_sum += arr[i]\n",
        "\n",
        "\t\t# If prefix sum is 0 or\n",
        "\t\t# it is already present\n",
        "\t\tif n_sum == 0 or n_sum in s:\n",
        "\t\t\treturn True\n",
        "\t\ts.add(n_sum)\n",
        "\n",
        "\treturn False\n",
        "\n",
        "\n",
        "# Driver code\n",
        "arr = [-3, 2, 3, 1, 6]\n",
        "n = len(arr)\n",
        "if subArrayExists(arr, n) == True:\n",
        "\tprint(\"Found a sunbarray with 0 sum\")\n",
        "else:\n",
        "\tprint(\"No Such sub array exits!\")\n",
        "\n",
        "\n"
      ],
      "execution_count": null,
      "outputs": [
        {
          "output_type": "stream",
          "text": [
            "No Such sub array exits!\n"
          ],
          "name": "stdout"
        }
      ]
    },
    {
      "cell_type": "code",
      "metadata": {
        "colab": {
          "base_uri": "https://localhost:8080/"
        },
        "id": "thdaX5w3yRNU",
        "outputId": "e79c423f-f7d5-4232-900c-88e2fa392066"
      },
      "source": [
        "s1 = input(\"Enter the string\")\n",
        "#s2 = input(\"Enter the string\")\n",
        "\n",
        "ar=[]\n",
        "char_list = list(s1)\n",
        "print(char_list)\n",
        "for elements in char_list:\n",
        "  num = ord(elements)\n",
        "  num = num + 5\n",
        "  character = chr(num)\n",
        "  ar.append(character)\n",
        "final_string = ' '.join([str(elem) for elem in ar])\n",
        "print(final_string)   "
      ],
      "execution_count": null,
      "outputs": [
        {
          "output_type": "stream",
          "text": [
            "Enter the stringi am raj\n",
            "['i', ' ', 'a', 'm', ' ', 'r', 'a', 'j']\n",
            "n % f r % w f o\n"
          ],
          "name": "stdout"
        }
      ]
    },
    {
      "cell_type": "markdown",
      "metadata": {
        "id": "hXjrfsKkU7pL"
      },
      "source": [
        "# Encoding / Decoding Caesar Cipher Python 3 ASCII\n"
      ]
    },
    {
      "cell_type": "code",
      "metadata": {
        "colab": {
          "base_uri": "https://localhost:8080/"
        },
        "id": "QHpnjPzr8zOY",
        "outputId": "4df8a8ee-e6ce-42cc-af60-799f771f66a8"
      },
      "source": [
        "def main():\n",
        "    print(\"This program can encode and decode Caesar Ciphers\") #e.g. if key value is 2 --> word shifted 2 up e.g. a would be c\n",
        "    #input from user\n",
        "    inputText = input(\"Please enter a string of plaintext:\").lower()\n",
        "    inputValue = eval(input(\"Please enter the value of the key:\"))\n",
        "    inputEorD = input(\"Please enter e (to encrypt) or d (to decrypt) \")\n",
        "    #initate empty list\n",
        "    codedMessage = \"\"\n",
        "\n",
        "    #for character in the string\n",
        "    if inputEorD == \"e\":\n",
        "        for ch in inputText:\n",
        "            codedMessage += chr(ord(ch) + inputValue) #encode hence plus\n",
        "    elif inputEorD ==\"d\":\n",
        "            codedMessage += chr(ord(ch) - inputValue) #decode hence minus\n",
        "    else:\n",
        "        print(\"You did not enter E/D! Try again!!\")\n",
        "    print(\"The text inputed:\", inputText,  \".Is:\", inputEorD, \".By the key of\",inputValue, \".To make the message\", codedMessage)\n",
        "\n",
        "main()"
      ],
      "execution_count": null,
      "outputs": [
        {
          "output_type": "stream",
          "text": [
            "This program can encode and decode Caesar Ciphers\n",
            "Please enter a string of plaintext:hello world\n",
            "Please enter the value of the key:5\n",
            "Please enter e (to encrypt) or d (to decrypt) e\n",
            "The text inputed: hello world .Is: e .By the key of 5 .To make the message mjqqt%|twqi\n"
          ],
          "name": "stdout"
        }
      ]
    },
    {
      "cell_type": "code",
      "metadata": {
        "id": "pIAjKdpVOsCl"
      },
      "source": [
        "# Python program to convert a list\n",
        "# to string using list comprehension\n",
        "\n",
        "s = ['I', 'want', 4, 'apples', 'and', 18, 'bananas']\n",
        "\n",
        "# using list comprehension\n",
        "listToStr = ' '.join(map(str, s))\n",
        "\n",
        "print(listToStr)\n"
      ],
      "execution_count": null,
      "outputs": []
    },
    {
      "cell_type": "code",
      "metadata": {
        "colab": {
          "base_uri": "https://localhost:8080/"
        },
        "id": "mECfT7RtunPX",
        "outputId": "e4e8d0ca-6dd2-464b-a934-333921e5be37"
      },
      "source": [
        "a = 'malayalam'\n",
        "rev = a[::-1]\n",
        "print(rev)\n",
        "if rev == a:\n",
        "  print(\"Palindrome\")\n",
        "else:\n",
        "  print(\"Not a Palindrome\")"
      ],
      "execution_count": null,
      "outputs": [
        {
          "output_type": "stream",
          "text": [
            "malayalam\n",
            "Palindrome\n"
          ],
          "name": "stdout"
        }
      ]
    }
  ]
}