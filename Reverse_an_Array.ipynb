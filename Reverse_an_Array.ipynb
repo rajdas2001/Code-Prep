{
  "nbformat": 4,
  "nbformat_minor": 0,
  "metadata": {
    "colab": {
      "name": "Reverse an Array",
      "provenance": [],
      "authorship_tag": "ABX9TyOskacWQBMkW0ApWPGNj7c/",
      "include_colab_link": true
    },
    "kernelspec": {
      "name": "python3",
      "display_name": "Python 3"
    },
    "language_info": {
      "name": "python"
    }
  },
  "cells": [
    {
      "cell_type": "markdown",
      "metadata": {
        "id": "view-in-github",
        "colab_type": "text"
      },
      "source": [
        "<a href=\"https://colab.research.google.com/github/rajdas2001/Code-Prep/blob/main/Reverse_an_Array.ipynb\" target=\"_parent\"><img src=\"https://colab.research.google.com/assets/colab-badge.svg\" alt=\"Open In Colab\"/></a>"
      ]
    },
    {
      "cell_type": "code",
      "metadata": {
        "colab": {
          "base_uri": "https://localhost:8080/"
        },
        "id": "-CPdAw-PF2gT",
        "outputId": "f221c630-ad5b-4547-9063-111ca7dd66fe"
      },
      "source": [
        "a = [5,3,1,7,8,2,1]\n",
        "a.reverse()\n",
        "print(a)"
      ],
      "execution_count": 2,
      "outputs": [
        {
          "output_type": "stream",
          "text": [
            "[1, 2, 8, 7, 1, 3, 5]\n"
          ],
          "name": "stdout"
        }
      ]
    }
  ]
}