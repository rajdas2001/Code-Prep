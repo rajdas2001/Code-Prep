{
  "nbformat": 4,
  "nbformat_minor": 0,
  "metadata": {
    "colab": {
      "name": "Prime/Composite",
      "provenance": [],
      "authorship_tag": "ABX9TyMURflvwOAzZKNfiAIJNiaX",
      "include_colab_link": true
    },
    "kernelspec": {
      "name": "python3",
      "display_name": "Python 3"
    },
    "language_info": {
      "name": "python"
    }
  },
  "cells": [
    {
      "cell_type": "markdown",
      "metadata": {
        "id": "view-in-github",
        "colab_type": "text"
      },
      "source": [
        "<a href=\"https://colab.research.google.com/github/rajdas2001/Code-Prep/blob/main/Prime_Composite.ipynb\" target=\"_parent\"><img src=\"https://colab.research.google.com/assets/colab-badge.svg\" alt=\"Open In Colab\"/></a>"
      ]
    },
    {
      "cell_type": "markdown",
      "metadata": {
        "id": "UGN2iDqKQiD8"
      },
      "source": [
        "Q. Prime/Composite"
      ]
    },
    {
      "cell_type": "code",
      "metadata": {
        "colab": {
          "base_uri": "https://localhost:8080/"
        },
        "id": "2IyemVXXPj30",
        "outputId": "e079b9f8-edb2-4345-9c17-62de4b0edf19"
      },
      "source": [
        "n = int(input())\n",
        "ctr = 0\n",
        "for i in range(1, n+1):\n",
        "  if n % i == 0:\n",
        "    ctr = ctr + 1\n",
        "if ctr > 2:\n",
        "  print(\"Composite\")\n",
        "elif ctr == 2:\n",
        "  print(\"Prime\")\n",
        "else:\n",
        "  print(\"Zero\")"
      ],
      "execution_count": 2,
      "outputs": [
        {
          "output_type": "stream",
          "text": [
            "3\n",
            "Prime\n"
          ],
          "name": "stdout"
        }
      ]
    }
  ]
}