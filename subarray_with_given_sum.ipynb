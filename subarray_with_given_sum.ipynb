{
  "nbformat": 4,
  "nbformat_minor": 0,
  "metadata": {
    "colab": {
      "name": "subarray with given sum",
      "provenance": [],
      "authorship_tag": "ABX9TyN5syc3jMu+HMZl8SLB7IMv",
      "include_colab_link": true
    },
    "kernelspec": {
      "name": "python3",
      "display_name": "Python 3"
    },
    "language_info": {
      "name": "python"
    }
  },
  "cells": [
    {
      "cell_type": "markdown",
      "metadata": {
        "id": "view-in-github",
        "colab_type": "text"
      },
      "source": [
        "<a href=\"https://colab.research.google.com/github/rajdas2001/Code-Prep/blob/main/subarray_with_given_sum.ipynb\" target=\"_parent\"><img src=\"https://colab.research.google.com/assets/colab-badge.svg\" alt=\"Open In Colab\"/></a>"
      ]
    },
    {
      "cell_type": "markdown",
      "metadata": {
        "id": "0ccWm9ooUYsX"
      },
      "source": [
        "#Subarray with given sum\n",
        "\n",
        "Given an unsorted array of nonnegative integers, find a continuous subarray which adds to a given number. \n",
        "Examples : \n",
        "\n",
        "Input: arr[] = {1, 4, 20, 3, 10, 5}, sum = 33\n",
        "Ouptut: Sum found between indexes 2 and 4\n",
        "Sum of elements between indices\n",
        "2 and 4 is 20 + 3 + 10 = 33\n",
        "\n",
        "Input: arr[] = {1, 4, 0, 0, 3, 10, 5}, sum = 7\n",
        "Ouptut: Sum found between indexes 1 and 4\n",
        "Sum of elements between indices\n",
        "1 and 4 is 4 + 0 + 0 + 3 = 7\n",
        "\n",
        "Input: arr[] = {1, 4}, sum = 0\n",
        "Output: No subarray found\n",
        "There is no subarray with 0 sum"
      ]
    },
    {
      "cell_type": "code",
      "metadata": {
        "id": "XC4It_8oUMET",
        "colab": {
          "base_uri": "https://localhost:8080/"
        },
        "outputId": "e6c7bd78-9512-4f74-f8b2-e7a0804a52fb"
      },
      "source": [
        "# Returns true if the\n",
        "# there is a subarray\n",
        "# of arr[] with sum\n",
        "# equal to 'sum'\n",
        "# otherwise returns\n",
        "# false. Also, prints\n",
        "# the result\n",
        "def subArraySum(arr, n, sum_):\n",
        "\t\n",
        "\t# Pick a starting\n",
        "\t# point\n",
        "\tfor i in range(n):\n",
        "\t\tcurr_sum = arr[i]\n",
        "\t\n",
        "\t\t# try all subarrays\n",
        "\t\t# starting with 'i'\n",
        "\t\tj = i + 1\n",
        "\t\twhile j <= n:\n",
        "\t\t\n",
        "\t\t\tif curr_sum == sum_:\n",
        "\t\t\t\tprint (\"Sum found between\")\n",
        "\t\t\t\tprint(\"indexes % d and % d\"%( i, j-1))\n",
        "\t\t\t\t\n",
        "\t\t\t\treturn 1\n",
        "\t\t\t\t\n",
        "\t\t\tif curr_sum > sum_ or j == n:\n",
        "\t\t\t\tbreak\n",
        "\t\t\t\n",
        "\t\t\tcurr_sum = curr_sum + arr[j]\n",
        "\t\t\tj += 1\n",
        "\n",
        "\tprint (\"No subarray found\")\n",
        "\treturn 0\n",
        "\n",
        "arr = [int(x) for x in input(\"Enter integers: \").split()]\n",
        "n = len(arr)\n",
        "sum_ = int(input(\"Enter the sum: \"))\n",
        "\n",
        "subArraySum(arr, n, sum_)"
      ],
      "execution_count": 6,
      "outputs": [
        {
          "output_type": "stream",
          "text": [
            "Enter integers: 18 11 12 5 6 7 8 12 17\n",
            "Enter the sum: 38\n",
            "Sum found between\n",
            "indexes  2 and  6\n"
          ],
          "name": "stdout"
        },
        {
          "output_type": "execute_result",
          "data": {
            "text/plain": [
              "1"
            ]
          },
          "metadata": {
            "tags": []
          },
          "execution_count": 6
        }
      ]
    }
  ]
}