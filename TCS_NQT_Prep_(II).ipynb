{
  "nbformat": 4,
  "nbformat_minor": 0,
  "metadata": {
    "colab": {
      "name": "TCS NQT Prep (II)",
      "provenance": [],
      "authorship_tag": "ABX9TyMyKuwlUJfaM54NAf8bT6dU",
      "include_colab_link": true
    },
    "kernelspec": {
      "name": "python3",
      "display_name": "Python 3"
    },
    "language_info": {
      "name": "python"
    }
  },
  "cells": [
    {
      "cell_type": "markdown",
      "metadata": {
        "id": "view-in-github",
        "colab_type": "text"
      },
      "source": [
        "<a href=\"https://colab.research.google.com/github/rajdas2001/Code-Prep/blob/main/TCS_NQT_Prep_(II).ipynb\" target=\"_parent\"><img src=\"https://colab.research.google.com/assets/colab-badge.svg\" alt=\"Open In Colab\"/></a>"
      ]
    },
    {
      "cell_type": "markdown",
      "metadata": {
        "id": "Pz9ut46W0ibk"
      },
      "source": [
        "# TCS NQT Prep (II)\n",
        "https://prepinsta.com/tcs-coding-questions/"
      ]
    },
    {
      "cell_type": "code",
      "metadata": {
        "colab": {
          "base_uri": "https://localhost:8080/"
        },
        "id": "6zyo1luWa_mf",
        "outputId": "226c8d28-51e7-4b4b-ea57-cbbc587b64bc"
      },
      "source": [
        "n1=int(input(\"Enter the number of Interior Walls\"))\n",
        "n2=int(input(\"Enter the number of Exterior Walls \"))\n",
        "s=0\n",
        "ar1=[]\n",
        "ar2=[]\n",
        "if n1!=0:\n",
        "  for i in range(n1):\n",
        "    a=float(input(\"Enter the values\"))\n",
        "    ar1.append(float(a))\n",
        "if n2!=0:\n",
        "  for j in range(n2):\n",
        "    a=float(input(\"Enter the values\"))\n",
        "    ar2.append(float(a))\n",
        "print(ar1)\n",
        "print(ar2)\n",
        "s1=sum(ar1)\n",
        "s2=sum(ar2)\n",
        "s=s1*18 + s2*12\n",
        "print(s)"
      ],
      "execution_count": null,
      "outputs": [
        {
          "output_type": "stream",
          "text": [
            "Enter the number of Interior Walls6\n",
            "Enter the number of Exterior Walls 3\n",
            "Enter the values12.3\n",
            "Enter the values15.2\n",
            "Enter the values12.3\n",
            "Enter the values15.2\n",
            "Enter the values12.3\n",
            "Enter the values15.2\n",
            "Enter the values10.10\n",
            "Enter the values10.10\n",
            "Enter the values10.10\n",
            "[12.3, 15.2, 12.3, 15.2, 12.3, 15.2]\n",
            "[10.1, 10.1, 10.1]\n",
            "1848.6\n"
          ],
          "name": "stdout"
        }
      ]
    },
    {
      "cell_type": "code",
      "metadata": {
        "id": "Dl3QIwH-0dkk"
      },
      "source": [
        "Path = [800, 600, 750, 900, 1400, 1200, 1100, 1500]\n",
        "BusStops = [ \"TH\", \"GA\", \"IC\", \"HA\", \"TE\", \"LU\", \"NI\", \"CA” ]\n",
        "\n"
      ],
      "execution_count": null,
      "outputs": []
    },
    {
      "cell_type": "code",
      "metadata": {
        "colab": {
          "base_uri": "https://localhost:8080/"
        },
        "id": "EtIxpczw2sEp",
        "outputId": "21d0bc63-1f5b-4608-b867-cab04bbe6bd6"
      },
      "source": [
        "teams = ['a','b','c']\n",
        "res = [(a, b) for idx, a in enumerate(teams) for b in teams[idx + 1:]]\n",
        "print(res)"
      ],
      "execution_count": null,
      "outputs": [
        {
          "output_type": "stream",
          "text": [
            "[('a', 'b'), ('a', 'c'), ('b', 'c')]\n"
          ],
          "name": "stdout"
        }
      ]
    },
    {
      "cell_type": "code",
      "metadata": {
        "colab": {
          "base_uri": "https://localhost:8080/"
        },
        "id": "vKbu9xZ8DIb_",
        "outputId": "5fef1463-9c93-47e4-af63-2bc63e9a5a51"
      },
      "source": [
        "# Python code to create pair of element\n",
        "# from two list such that element\n",
        "# in pairs are not equal.\n",
        "\n",
        "# List initialization\n",
        "list1 =[10, 20, 30, 40]\n",
        "list2 =[40, 50, 60]\n",
        "\n",
        "# using list comprehension\n",
        "output = [[a, b] for a in list1\n",
        "\t\tfor b in list2 if a != b]\n",
        "\n",
        "# printing output\n",
        "print(output)\n"
      ],
      "execution_count": null,
      "outputs": [
        {
          "output_type": "stream",
          "text": [
            "[[10, 40], [10, 50], [10, 60], [20, 40], [20, 50], [20, 60], [30, 40], [30, 50], [30, 60], [40, 50], [40, 60]]\n"
          ],
          "name": "stdout"
        }
      ]
    },
    {
      "cell_type": "code",
      "metadata": {
        "colab": {
          "base_uri": "https://localhost:8080/"
        },
        "id": "2x7VdQxbFHcx",
        "outputId": "4c24cb26-f7d3-4a01-cb7a-6db4bd8b9fac"
      },
      "source": [
        "list1 =[10, 20, 30, 40]\n",
        "list2 =[40, 50, 60]\n",
        "a=[]\n",
        "for i in list1:\n",
        "  for j in list2:\n",
        "    if  i != j:\n",
        "      a.append([i,j])\n",
        "print(a)"
      ],
      "execution_count": null,
      "outputs": [
        {
          "output_type": "stream",
          "text": [
            "[[10, 40], [10, 50], [10, 60], [20, 40], [20, 50], [20, 60], [30, 40], [30, 50], [30, 60], [40, 50], [40, 60]]\n"
          ],
          "name": "stdout"
        }
      ]
    },
    {
      "cell_type": "code",
      "metadata": {
        "colab": {
          "base_uri": "https://localhost:8080/"
        },
        "id": "wANrNBKtQp6q",
        "outputId": "d98d592c-7dfc-44e2-85dd-9bca629bb3b4"
      },
      "source": [
        "# Python code to create pair of element\n",
        "# from two list such that element\n",
        "# in pairs are not equal.\n",
        "\n",
        "# Importing\n",
        "import itertools\n",
        "\n",
        "# List initialization\n",
        "list1 =[11, 22, 33, 44]\n",
        "list2 =[22, 44, 66]\n",
        "\n",
        "# using itertools\n",
        "temp = list(itertools.product(list1, list1))\n",
        "\n",
        "# output list initialization\n",
        "out = []\n",
        "\n",
        "# iteration\n",
        "for elem in temp:\n",
        "\tif elem[0]!= elem[1]:\n",
        "\t\tout.append(elem)\n",
        "\n",
        "# printing output\n",
        "print(out)\n"
      ],
      "execution_count": null,
      "outputs": [
        {
          "output_type": "stream",
          "text": [
            "[(11, 22), (11, 33), (11, 44), (22, 11), (22, 33), (22, 44), (33, 11), (33, 22), (33, 44), (44, 11), (44, 22), (44, 33)]\n"
          ],
          "name": "stdout"
        }
      ]
    },
    {
      "cell_type": "code",
      "metadata": {
        "colab": {
          "base_uri": "https://localhost:8080/"
        },
        "id": "KHNuuy6LQ7T6",
        "outputId": "fe564fc2-8ff3-47f0-a207-deb2278f4842"
      },
      "source": [
        "# Python3 code to demonstrate working of\n",
        "# All possible pairs in List\n",
        "# Using combinations()\n",
        "from itertools import combinations\n",
        "\n",
        "# initializing list\n",
        "test_list = [1, 7, 4, 3]\n",
        "\n",
        "# printing original list\n",
        "print(\"The original list : \" + str(test_list))\n",
        "\n",
        "# All possible pairs in List\n",
        "# Using combinations()\n",
        "res = list(combinations(test_list, 2))\n",
        "\n",
        "# printing result\n",
        "print(\"All possible pairs : \" + str(res))\n"
      ],
      "execution_count": null,
      "outputs": [
        {
          "output_type": "stream",
          "text": [
            "The original list : [1, 7, 4, 3]\n",
            "All possible pairs : [(1, 7), (1, 4), (1, 3), (7, 4), (7, 3), (4, 3)]\n"
          ],
          "name": "stdout"
        }
      ]
    },
    {
      "cell_type": "code",
      "metadata": {
        "colab": {
          "base_uri": "https://localhost:8080/"
        },
        "id": "CAh6FOv0SeoQ",
        "outputId": "416b532b-6e1f-41ce-c04c-22546741d42d"
      },
      "source": [
        "string = 'Hello World'\n",
        "char_list = list(string)\n",
        "\n",
        "a = 0\n",
        "e = 0\n",
        "i = 0\n",
        "o = 0\n",
        "u = 0\n",
        "\n",
        "for elements in char_list:\n",
        "  if elements == 'a':\n",
        "    a=a+1\n",
        "  elif elements == 'e':\n",
        "    e=e+1\n",
        "  elif elements == 'i':\n",
        "    i=i+1\n",
        "  elif elements == 'o':\n",
        "    o=o+1\n",
        "  elif elements == 'u':\n",
        "    u=u+1\n",
        "print(a,e,i,o,u)\n"
      ],
      "execution_count": null,
      "outputs": [
        {
          "output_type": "stream",
          "text": [
            "0 1 0 2 0\n"
          ],
          "name": "stdout"
        }
      ]
    },
    {
      "cell_type": "code",
      "metadata": {
        "colab": {
          "base_uri": "https://localhost:8080/"
        },
        "id": "uELr-HF2YkDP",
        "outputId": "ecfab9f0-4b27-497e-a410-073925a51e73"
      },
      "source": [
        "string = 'Hello World'\n",
        "char_list = list(string)\n",
        "print(char_list)"
      ],
      "execution_count": null,
      "outputs": [
        {
          "output_type": "stream",
          "text": [
            "['H', 'e', 'l', 'l', 'o', ' ', 'W', 'o', 'r', 'l', 'd']\n"
          ],
          "name": "stdout"
        }
      ]
    },
    {
      "cell_type": "code",
      "metadata": {
        "colab": {
          "base_uri": "https://localhost:8080/"
        },
        "id": "ZQbNyCOSW415",
        "outputId": "1369200b-5497-4ead-b5c0-852aa255c4df"
      },
      "source": [
        "string = 'Hello World' \n",
        "print(string.split())"
      ],
      "execution_count": null,
      "outputs": [
        {
          "output_type": "stream",
          "text": [
            "['Hello', 'World']\n"
          ],
          "name": "stdout"
        }
      ]
    },
    {
      "cell_type": "code",
      "metadata": {
        "colab": {
          "base_uri": "https://localhost:8080/"
        },
        "id": "IV79EzsXhMqm",
        "outputId": "fe1f5c1e-11c9-4761-969b-f6ad9b35828c"
      },
      "source": [
        "vowels = 'aeiouAEIOU' \n",
        "s = \"Hello World\"\n",
        "result = False \n",
        "for ch in s: \n",
        "\tif ch in vowels: \n",
        "\t\tresult = True \n",
        "\t\tbreak # can stop loop after first vowel found \n",
        "result = any(ch in vowels for ch in s) \n",
        "print(result)"
      ],
      "execution_count": 7,
      "outputs": [
        {
          "output_type": "stream",
          "text": [
            "True\n"
          ],
          "name": "stdout"
        }
      ]
    },
    {
      "cell_type": "code",
      "metadata": {
        "colab": {
          "base_uri": "https://localhost:8080/"
        },
        "id": "4oKm0IiXSd9N",
        "outputId": "43e0dfb5-dabf-4224-e62a-5e659365761f"
      },
      "source": [
        "a = 0\n",
        "e = 0\n",
        "i = 0\n",
        "o = 0\n",
        "u = 0\n",
        "\n",
        "vowels = 'aeiou' \n",
        "s = input(\"Enter the string\")\n",
        "result = False \n",
        "for ch in s: \n",
        "\tif ch in vowels: \n",
        "\t\tresult = True \n",
        "\t\tbreak # can stop loop after first vowel found \n",
        "result = any(ch in vowels for ch in s) \n",
        "\n",
        "if result == True:\n",
        "  for elements in s:\n",
        "    if elements == 'a':\n",
        "      a=a+1\n",
        "    elif elements == 'e':\n",
        "      e=e+1\n",
        "    elif elements == 'i':\n",
        "      i=i+1\n",
        "    elif elements == 'o':\n",
        "      o=o+1\n",
        "    elif elements == 'u':\n",
        "      u=u+1\n",
        "  print(\"a:\"+str(a))\n",
        "  print(\"e:\"+str(e))\n",
        "  print(\"i:\"+str(i))\n",
        "  print(\"o:\"+str(o))\n",
        "  print(\"u:\"+str(u))\n",
        "    \n",
        "else:\n",
        "  print(\"0\")\n",
        "\n"
      ],
      "execution_count": 8,
      "outputs": [
        {
          "output_type": "stream",
          "text": [
            "Enter the stringhello world\n",
            "a:0\n",
            "e:1\n",
            "i:0\n",
            "o:2\n",
            "u:0\n"
          ],
          "name": "stdout"
        }
      ]
    },
    {
      "cell_type": "markdown",
      "metadata": {
        "id": "xlPa_S1geOPQ"
      },
      "source": [
        "Printing area of a circle upto 2 decimal places"
      ]
    },
    {
      "cell_type": "code",
      "metadata": {
        "colab": {
          "base_uri": "https://localhost:8080/"
        },
        "id": "dXOURqqtdUtY",
        "outputId": "34d9f00f-15f7-48bf-db42-45d5879210ae"
      },
      "source": [
        "r = float(input(\"Enter number\"))\n",
        "pi=3.14\n",
        "area=pi*r*r\n",
        "print(\"{:.2f}\".format(area))"
      ],
      "execution_count": 10,
      "outputs": [
        {
          "output_type": "stream",
          "text": [
            "Enter number5\n",
            "78.50\n"
          ],
          "name": "stdout"
        }
      ]
    },
    {
      "cell_type": "code",
      "metadata": {
        "colab": {
          "base_uri": "https://localhost:8080/"
        },
        "id": "NqutOxl7fsEu",
        "outputId": "afaa0bf6-8b18-4ed2-922a-a02cfa480146"
      },
      "source": [
        "x = 3.1415926\n",
        "y = 12.9999\n",
        "print(\"\\nOriginal Number: \", x)\n",
        "print(\"Formatted Number: \"+\"{:.2f}\".format(x));\n",
        "print(\"Original Number: \", y)\n",
        "print(\"Formatted Number: \"+\"{:.2f}\".format(y));\n",
        "print() \n"
      ],
      "execution_count": 11,
      "outputs": [
        {
          "output_type": "stream",
          "text": [
            "\n",
            "Original Number:  3.1415926\n",
            "Formatted Number: 3.14\n",
            "Original Number:  12.9999\n",
            "Formatted Number: 13.00\n",
            "\n"
          ],
          "name": "stdout"
        }
      ]
    }
  ]
}