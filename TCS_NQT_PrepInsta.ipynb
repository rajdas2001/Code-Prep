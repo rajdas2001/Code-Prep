{
  "nbformat": 4,
  "nbformat_minor": 0,
  "metadata": {
    "colab": {
      "name": "TCS NQT PrepInsta.ipynb",
      "provenance": [],
      "authorship_tag": "ABX9TyP2RxB0FUWV6peBhZP2BG/P",
      "include_colab_link": true
    },
    "kernelspec": {
      "name": "python3",
      "display_name": "Python 3"
    },
    "language_info": {
      "name": "python"
    }
  },
  "cells": [
    {
      "cell_type": "markdown",
      "metadata": {
        "id": "view-in-github",
        "colab_type": "text"
      },
      "source": [
        "<a href=\"https://colab.research.google.com/github/rajdas2001/Code-Prep/blob/main/TCS_NQT_PrepInsta.ipynb\" target=\"_parent\"><img src=\"https://colab.research.google.com/assets/colab-badge.svg\" alt=\"Open In Colab\"/></a>"
      ]
    },
    {
      "cell_type": "markdown",
      "metadata": {
        "id": "-YD0Abwb2Q90"
      },
      "source": [
        "# TCS NQT Prep \n",
        "https://prepinsta.com/tcs-coding-questions/"
      ]
    },
    {
      "cell_type": "code",
      "metadata": {
        "colab": {
          "base_uri": "https://localhost:8080/"
        },
        "id": "Hc4PcJcjzjKS",
        "outputId": "a6c93cb0-53e8-42ff-b327-04a8fa2a613a"
      },
      "source": [
        "total_candies = 10\n",
        "no_of_candies = int(input())\n",
        "if no_of_candies in range(1, 6):\n",
        "\tprint('No. of Candies Sold:',no_of_candies)\n",
        "\tprint('No. of Candies Left:',total_candies-no_of_candies)\n",
        "else:\n",
        "\tprint(\"Invalid Input\")\n",
        "\tprint('No. of Candies Left:',total_candies)"
      ],
      "execution_count": null,
      "outputs": [
        {
          "output_type": "stream",
          "text": [
            "7\n",
            "Invalid Input\n",
            "No. of Candies Left: 10\n"
          ],
          "name": "stdout"
        }
      ]
    },
    {
      "cell_type": "code",
      "metadata": {
        "colab": {
          "base_uri": "https://localhost:8080/"
        },
        "id": "j8gsgJYo2QC4",
        "outputId": "06f75166-7a66-4a9b-e1c7-37fdba48f87c"
      },
      "source": [
        "def wm(num):\n",
        "  if num<0 and num>7000:\n",
        "    print(\"Overloaded\")\n",
        "  elif num==0:\n",
        "    print(\"0 minutes\")\n",
        "  elif num>0 and num<=2000:\n",
        "    print(\"25 minutes\")\n",
        "  elif num>2000 and num<=4000:\n",
        "    print(\"35 minutes\")\n",
        "  else:\n",
        "    print(\"45 minutes\")\n",
        "\n",
        "num=int(input(\"Enter value\"))\n",
        "wm(num)"
      ],
      "execution_count": null,
      "outputs": [
        {
          "output_type": "stream",
          "text": [
            "Enter value3400\n",
            "35 minutes\n"
          ],
          "name": "stdout"
        }
      ]
    },
    {
      "cell_type": "code",
      "metadata": {
        "id": "4Vzg5mt7aXpI"
      },
      "source": [
        ""
      ],
      "execution_count": 28,
      "outputs": []
    }
  ]
}