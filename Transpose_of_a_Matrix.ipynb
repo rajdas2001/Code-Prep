{
  "nbformat": 4,
  "nbformat_minor": 0,
  "metadata": {
    "colab": {
      "name": "Transpose of a Matrix",
      "provenance": [],
      "authorship_tag": "ABX9TyP8QJEnObqvJoqy6pUx1A3U",
      "include_colab_link": true
    },
    "kernelspec": {
      "name": "python3",
      "display_name": "Python 3"
    },
    "language_info": {
      "name": "python"
    }
  },
  "cells": [
    {
      "cell_type": "markdown",
      "metadata": {
        "id": "view-in-github",
        "colab_type": "text"
      },
      "source": [
        "<a href=\"https://colab.research.google.com/github/rajdas2001/Code-Prep/blob/main/Transpose_of_a_Matrix.ipynb\" target=\"_parent\"><img src=\"https://colab.research.google.com/assets/colab-badge.svg\" alt=\"Open In Colab\"/></a>"
      ]
    },
    {
      "cell_type": "code",
      "metadata": {
        "id": "pTPZqmHYDv7P"
      },
      "source": [
        "mat = [[1,2,3],\n",
        "       [4,5,6]]"
      ],
      "execution_count": 1,
      "outputs": []
    },
    {
      "cell_type": "code",
      "metadata": {
        "colab": {
          "base_uri": "https://localhost:8080/"
        },
        "id": "SHDKBlQxTiFu",
        "outputId": "31a93ea1-5b89-43bb-d898-f00236bee1d1"
      },
      "source": [
        "import numpy as np\n",
        "namat = np.array(mat)\n",
        "print(namat.T)"
      ],
      "execution_count": 2,
      "outputs": [
        {
          "output_type": "stream",
          "name": "stdout",
          "text": [
            "[[1 4]\n",
            " [2 5]\n",
            " [3 6]]\n"
          ]
        }
      ]
    },
    {
      "cell_type": "code",
      "metadata": {
        "colab": {
          "base_uri": "https://localhost:8080/"
        },
        "id": "C9gBqUn-eB-q",
        "outputId": "61a6f372-8110-4a8a-bf97-11a8330414b4"
      },
      "source": [
        "m = [[1,2],[3,4],[5,6]]\n",
        "#printing original matrix\n",
        "for row in m :\n",
        "\tprint(row)\n",
        "#transpose of the matrix\n",
        "res = [[m[j][i] for j in range(len(m))] for i in range(len(m[0]))]\n",
        "print(\"\\n\")\n",
        "for row in res:\n",
        "\tprint(row)\n"
      ],
      "execution_count": 4,
      "outputs": [
        {
          "output_type": "stream",
          "name": "stdout",
          "text": [
            "[1, 2]\n",
            "[3, 4]\n",
            "[5, 6]\n",
            "\n",
            "\n",
            "[1, 3, 5]\n",
            "[2, 4, 6]\n"
          ]
        }
      ]
    },
    {
      "cell_type": "code",
      "metadata": {
        "colab": {
          "base_uri": "https://localhost:8080/"
        },
        "id": "jkVHd-ZPgNpK",
        "outputId": "470124ac-1f78-422b-fa4e-ca6cc18c0e7b"
      },
      "source": [
        "print(res)"
      ],
      "execution_count": 5,
      "outputs": [
        {
          "output_type": "stream",
          "name": "stdout",
          "text": [
            "[[1, 3, 5], [2, 4, 6]]\n"
          ]
        }
      ]
    }
  ]
}