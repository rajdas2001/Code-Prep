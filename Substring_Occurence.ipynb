{
  "nbformat": 4,
  "nbformat_minor": 0,
  "metadata": {
    "colab": {
      "name": "Substring Occurence",
      "provenance": [],
      "authorship_tag": "ABX9TyMPmdyvEA75iXmtYem9/8HN",
      "include_colab_link": true
    },
    "kernelspec": {
      "name": "python3",
      "display_name": "Python 3"
    },
    "language_info": {
      "name": "python"
    }
  },
  "cells": [
    {
      "cell_type": "markdown",
      "metadata": {
        "id": "view-in-github",
        "colab_type": "text"
      },
      "source": [
        "<a href=\"https://colab.research.google.com/github/rajdas2001/Code-Prep/blob/main/Substring_Occurence.ipynb\" target=\"_parent\"><img src=\"https://colab.research.google.com/assets/colab-badge.svg\" alt=\"Open In Colab\"/></a>"
      ]
    },
    {
      "cell_type": "code",
      "metadata": {
        "colab": {
          "base_uri": "https://localhost:8080/"
        },
        "id": "k8zlnL6-DQQJ",
        "outputId": "63f81cc4-f8ee-4389-c634-378e8e1d0112"
      },
      "source": [
        "import re\n",
        "\n",
        "s1 = input()\n",
        "s2 = input()\n",
        "final = ''\n",
        "\n",
        "val = [i for i in range(len(s1)) if s1.startswith(s2, i)]\n",
        "\n",
        "for elements in val:\n",
        "  final = final + str(elements+1)\n",
        "\n",
        "print(final)\n"
      ],
      "execution_count": 9,
      "outputs": [
        {
          "output_type": "stream",
          "name": "stdout",
          "text": [
            "abcdefabc\n",
            "abc\n",
            "17\n"
          ]
        }
      ]
    },
    {
      "cell_type": "code",
      "metadata": {
        "colab": {
          "base_uri": "https://localhost:8080/"
        },
        "id": "rTtgLnS-Oxz1",
        "outputId": "866d4916-208b-4110-8185-7bae35b4ef6d"
      },
      "source": [
        "s = input()\n",
        "x1 = input()\n",
        "\n",
        "l1 = len(s)\n",
        "l3 = len(x1)\n",
        "\n",
        "if x1[l3-1] == '#':\n",
        "  x = x1[:l3-1]\n",
        "  l2 = l3 - 1\n",
        "else:\n",
        "  x = x1\n",
        "  l2 = l3\n",
        "\n",
        "for i in range(l1):\n",
        "  temp = s[i:i+l2]\n",
        "  if(temp == x):\n",
        "    print(i+1, end='')"
      ],
      "execution_count": 13,
      "outputs": [
        {
          "output_type": "stream",
          "name": "stdout",
          "text": [
            "abcdefabc\n",
            "abc\n",
            "17"
          ]
        }
      ]
    }
  ]
}