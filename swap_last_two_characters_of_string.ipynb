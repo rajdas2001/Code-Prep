{
  "nbformat": 4,
  "nbformat_minor": 0,
  "metadata": {
    "colab": {
      "name": "swap last two characters of string",
      "provenance": [],
      "authorship_tag": "ABX9TyNjeQCsJZpebhsK2Kvh+H3P",
      "include_colab_link": true
    },
    "kernelspec": {
      "name": "python3",
      "display_name": "Python 3"
    },
    "language_info": {
      "name": "python"
    }
  },
  "cells": [
    {
      "cell_type": "markdown",
      "metadata": {
        "id": "view-in-github",
        "colab_type": "text"
      },
      "source": [
        "<a href=\"https://colab.research.google.com/github/rajdas2001/Code-Prep/blob/main/swap_last_two_characters_of_string.ipynb\" target=\"_parent\"><img src=\"https://colab.research.google.com/assets/colab-badge.svg\" alt=\"Open In Colab\"/></a>"
      ]
    },
    {
      "cell_type": "code",
      "metadata": {
        "colab": {
          "base_uri": "https://localhost:8080/"
        },
        "id": "ckofDnzMu14n",
        "outputId": "cba55b4e-e5bb-4f7e-c4c2-93075a2461dd"
      },
      "source": [
        "a = 'Nikhil'\n",
        "arr = list(a)\n",
        "arr[-1],arr[-2] = arr[-2],arr[-1]\n",
        "l = ''.join([str(elem) for elem in arr])\n",
        "print(l)"
      ],
      "execution_count": 3,
      "outputs": [
        {
          "output_type": "stream",
          "name": "stdout",
          "text": [
            "Nikhli\n"
          ]
        }
      ]
    }
  ]
}