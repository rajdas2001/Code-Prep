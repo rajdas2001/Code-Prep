{
  "nbformat": 4,
  "nbformat_minor": 0,
  "metadata": {
    "colab": {
      "name": "Uncommon elements in Lists",
      "provenance": [],
      "authorship_tag": "ABX9TyM410JwFt/wwjdS8+s+iyS6",
      "include_colab_link": true
    },
    "kernelspec": {
      "name": "python3",
      "display_name": "Python 3"
    },
    "language_info": {
      "name": "python"
    }
  },
  "cells": [
    {
      "cell_type": "markdown",
      "metadata": {
        "id": "view-in-github",
        "colab_type": "text"
      },
      "source": [
        "<a href=\"https://colab.research.google.com/github/rajdas2001/Code-Prep/blob/main/Uncommon_elements_in_Lists.ipynb\" target=\"_parent\"><img src=\"https://colab.research.google.com/assets/colab-badge.svg\" alt=\"Open In Colab\"/></a>"
      ]
    },
    {
      "cell_type": "markdown",
      "metadata": {
        "id": "LXilS2YXyo-6"
      },
      "source": [
        "# Uncommon elements in Lists"
      ]
    },
    {
      "cell_type": "markdown",
      "metadata": {
        "id": "2RxtEAV2yr_A"
      },
      "source": [
        "Method 1"
      ]
    },
    {
      "cell_type": "code",
      "metadata": {
        "colab": {
          "base_uri": "https://localhost:8080/"
        },
        "id": "Dq4B7cSvyRLJ",
        "outputId": "fced4952-ee1c-4559-8a03-2acffcd39f59"
      },
      "source": [
        "test_list1 = ['A','B','C']\n",
        "test_list2 = [ 'B','C' ]\n",
        "  \n",
        "print (\"The original list 1 : \" + str(test_list1))\n",
        "print (\"The original list 2 : \" + str(test_list2))\n",
        "\n",
        "res_list = []\n",
        "for i in test_list1:\n",
        "    if i not in test_list2:\n",
        "        res_list.append(i)\n",
        "for i in test_list2:\n",
        "    if i not in test_list1:\n",
        "        res_list.append(i)\n",
        "          \n",
        "print (\"The uncommon of two lists is : \" + str(res_list))"
      ],
      "execution_count": 1,
      "outputs": [
        {
          "output_type": "stream",
          "text": [
            "The original list 1 : ['A', 'B', 'C']\n",
            "The original list 2 : ['B', 'C']\n",
            "The uncommon of two lists is : ['A']\n"
          ],
          "name": "stdout"
        }
      ]
    },
    {
      "cell_type": "markdown",
      "metadata": {
        "id": "yhJE_Gc0yurz"
      },
      "source": [
        "Method 2"
      ]
    },
    {
      "cell_type": "code",
      "metadata": {
        "colab": {
          "base_uri": "https://localhost:8080/"
        },
        "id": "mvum8TEByyac",
        "outputId": "64414361-d38c-406b-deeb-11019fafed72"
      },
      "source": [
        "test_list1 = ['A','B','C']\n",
        "test_list2 = [ 'B','C' ]\n",
        "print (\"The original list 1 : \" + str(test_list1))\n",
        "print (\"The original list 2 : \" + str(test_list2))\n",
        "  \n",
        "\n",
        "res_set = set(map(tuple, test_list1)) ^ set(map(tuple, test_list2))\n",
        "res_list = list(map(list, res_set))\n",
        "  \n",
        "\n",
        "print (\"The uncommon of two lists is : \" + str(res_list))"
      ],
      "execution_count": 3,
      "outputs": [
        {
          "output_type": "stream",
          "text": [
            "The original list 1 : ['A', 'B', 'C']\n",
            "The original list 2 : ['B', 'C']\n",
            "The uncommon of two lists is : [['A']]\n"
          ],
          "name": "stdout"
        }
      ]
    }
  ]
}