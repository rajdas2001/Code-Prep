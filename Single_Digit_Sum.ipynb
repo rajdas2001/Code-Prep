{
  "nbformat": 4,
  "nbformat_minor": 0,
  "metadata": {
    "colab": {
      "name": "Single Digit Sum",
      "provenance": [],
      "authorship_tag": "ABX9TyMqiZuLuZLddK12HIwLlVd9",
      "include_colab_link": true
    },
    "kernelspec": {
      "name": "python3",
      "display_name": "Python 3"
    },
    "language_info": {
      "name": "python"
    }
  },
  "cells": [
    {
      "cell_type": "markdown",
      "metadata": {
        "id": "view-in-github",
        "colab_type": "text"
      },
      "source": [
        "<a href=\"https://colab.research.google.com/github/rajdas2001/Code-Prep/blob/main/Single_Digit_Sum.ipynb\" target=\"_parent\"><img src=\"https://colab.research.google.com/assets/colab-badge.svg\" alt=\"Open In Colab\"/></a>"
      ]
    },
    {
      "cell_type": "markdown",
      "metadata": {
        "id": "adTFcez21Z3L"
      },
      "source": [
        "# Finding sum of digits of a number until sum becomes single digit"
      ]
    },
    {
      "cell_type": "code",
      "metadata": {
        "colab": {
          "base_uri": "https://localhost:8080/"
        },
        "id": "f4vdGoZ2zWe-",
        "outputId": "18139ea2-feeb-4f68-c078-7e3c28989d95"
      },
      "source": [
        "def digSum(n):\n",
        "  sum = 0\n",
        "  while(n > 0 or sum > 9):\n",
        "    if(n == 0):\n",
        "      n = sum\n",
        "      sum = 0\n",
        "    sum = sum + int(n % 10)\n",
        "    n = int(n / 10)\n",
        "  return sum\n",
        "\n",
        "\n",
        "n = int(input(\"Enter the number\"))\n",
        "print (digSum(n))\n",
        "\n"
      ],
      "execution_count": 8,
      "outputs": [
        {
          "output_type": "stream",
          "text": [
            "Enter the number1234\n",
            "1\n"
          ],
          "name": "stdout"
        }
      ]
    }
  ]
}