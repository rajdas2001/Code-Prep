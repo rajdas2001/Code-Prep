{
  "nbformat": 4,
  "nbformat_minor": 0,
  "metadata": {
    "colab": {
      "name": "SimpliLearn Coding Internview (1).ipynb",
      "provenance": [],
      "authorship_tag": "ABX9TyNySgfeha5Fcz/nubD8DBEJ",
      "include_colab_link": true
    },
    "kernelspec": {
      "name": "python3",
      "display_name": "Python 3"
    },
    "language_info": {
      "name": "python"
    }
  },
  "cells": [
    {
      "cell_type": "markdown",
      "metadata": {
        "id": "view-in-github",
        "colab_type": "text"
      },
      "source": [
        "<a href=\"https://colab.research.google.com/github/rajdas2001/Code-Prep/blob/main/SimpliLearn_Coding_Internview_(1).ipynb\" target=\"_parent\"><img src=\"https://colab.research.google.com/assets/colab-badge.svg\" alt=\"Open In Colab\"/></a>"
      ]
    },
    {
      "cell_type": "markdown",
      "metadata": {
        "id": "JmhmkNHXRQrs"
      },
      "source": [
        "Q. Reverse a String"
      ]
    },
    {
      "cell_type": "code",
      "metadata": {
        "colab": {
          "base_uri": "https://localhost:8080/"
        },
        "id": "wiaRfZP6QIaU",
        "outputId": "b00d2ecf-b8da-4d55-d5de-e7d9de4f260f"
      },
      "source": [
        "str = 'abc'\n",
        "print(str[::-1])"
      ],
      "execution_count": null,
      "outputs": [
        {
          "output_type": "stream",
          "text": [
            "cba\n",
            "abc\n"
          ],
          "name": "stdout"
        }
      ]
    },
    {
      "cell_type": "code",
      "metadata": {
        "colab": {
          "base_uri": "https://localhost:8080/"
        },
        "id": "hoW5sDQDR_Kr",
        "outputId": "f56dbe60-839c-4d9d-c5c6-6d09cbf9b1f6"
      },
      "source": [
        "str = 'abc'\n",
        "rev = ''\n",
        "for i in str:\n",
        "  rev = i + rev\n",
        "print(rev)"
      ],
      "execution_count": null,
      "outputs": [
        {
          "output_type": "stream",
          "text": [
            "cba\n"
          ],
          "name": "stdout"
        }
      ]
    },
    {
      "cell_type": "markdown",
      "metadata": {
        "id": "YOtA4MnverHB"
      },
      "source": [
        "Q. Check if a string is Palindrome"
      ]
    },
    {
      "cell_type": "code",
      "metadata": {
        "colab": {
          "base_uri": "https://localhost:8080/"
        },
        "id": "yF4pjc6seqZK",
        "outputId": "db0eba86-1a8d-4583-d9e4-bebe25bec9e8"
      },
      "source": [
        "str = 'malayalam'\n",
        "if str == str[::-1]:\n",
        "  print(\"Palinrome\")\n",
        "else:\n",
        "  print(\"Not a Palindrome\")"
      ],
      "execution_count": null,
      "outputs": [
        {
          "output_type": "stream",
          "text": [
            "Palinrome\n"
          ],
          "name": "stdout"
        }
      ]
    },
    {
      "cell_type": "markdown",
      "metadata": {
        "id": "LWj0xijFtHPG"
      },
      "source": [
        "Q. Check if a number is Palindrome"
      ]
    },
    {
      "cell_type": "markdown",
      "metadata": {
        "id": "ZXTTBMloffMh"
      },
      "source": [
        "Q. Occurance of a Character in a string "
      ]
    },
    {
      "cell_type": "code",
      "metadata": {
        "colab": {
          "base_uri": "https://localhost:8080/"
        },
        "id": "MDFpbwQwfey9",
        "outputId": "162183ab-dd6b-477b-9dd8-bd6dba90431e"
      },
      "source": [
        "str = 'abcardayxaaa'\n",
        "ctr = 0\n",
        "input = 'a'\n",
        "for elements in str: \n",
        "  if elements == 'a':\n",
        "    ctr = ctr + 1\n",
        "print(ctr)"
      ],
      "execution_count": null,
      "outputs": [
        {
          "output_type": "stream",
          "text": [
            "6\n"
          ],
          "name": "stdout"
        }
      ]
    },
    {
      "cell_type": "code",
      "metadata": {
        "colab": {
          "base_uri": "https://localhost:8080/"
        },
        "id": "QGYJ5PZnqS_m",
        "outputId": "3196533e-0bef-4a00-b9bc-300fc7dbde8a"
      },
      "source": [
        "str = 'tikulu the dholu'\n",
        "print(str.count('u'))"
      ],
      "execution_count": null,
      "outputs": [
        {
          "output_type": "stream",
          "text": [
            "3\n"
          ],
          "name": "stdout"
        }
      ]
    },
    {
      "cell_type": "markdown",
      "metadata": {
        "id": "tDRIoD1okwRr"
      },
      "source": [
        "Q. Check if two strings are anagrams of eachother"
      ]
    },
    {
      "cell_type": "code",
      "metadata": {
        "colab": {
          "base_uri": "https://localhost:8080/"
        },
        "id": "Oqmt3EcTk6_i",
        "outputId": "f00bd223-461f-476a-ab83-a94278afa724"
      },
      "source": [
        "str1 = 'aab'\n",
        "str2 = 'aba'\n",
        "if sorted(str1) == sorted(str2):\n",
        "  print(\"Anagram\")\n",
        "else:\n",
        "  print(\"Not an Anagram\")"
      ],
      "execution_count": null,
      "outputs": [
        {
          "output_type": "stream",
          "text": [
            "Anagram\n"
          ],
          "name": "stdout"
        }
      ]
    },
    {
      "cell_type": "markdown",
      "metadata": {
        "id": "PKXg0xVVlLSU"
      },
      "source": [
        "Q. Calculate the number of vowels and consonants in a string"
      ]
    },
    {
      "cell_type": "code",
      "metadata": {
        "colab": {
          "base_uri": "https://localhost:8080/"
        },
        "id": "7n8Zk8ECnDR8",
        "outputId": "7e784c85-7c08-4505-994b-25f3ad8fc347"
      },
      "source": [
        "str = 'avciuyafklsadf'\n",
        "cv = 0\n",
        "cc = 0\n",
        "for elements in str:\n",
        "  if elements == 'a' or elements == 'e' or elements == 'i' or elements == 'o' or elements == 'u':\n",
        "    cv = cv + 1\n",
        "  else:\n",
        "    cc = cc + 1\n",
        "print(cv)\n",
        "print(cc)"
      ],
      "execution_count": null,
      "outputs": [
        {
          "output_type": "stream",
          "text": [
            "5\n",
            "9\n"
          ],
          "name": "stdout"
        }
      ]
    }
  ]
}