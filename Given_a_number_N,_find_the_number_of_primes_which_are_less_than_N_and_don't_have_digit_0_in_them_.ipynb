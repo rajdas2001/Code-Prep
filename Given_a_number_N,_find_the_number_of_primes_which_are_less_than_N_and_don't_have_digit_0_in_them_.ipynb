{
  "nbformat": 4,
  "nbformat_minor": 0,
  "metadata": {
    "colab": {
      "name": "Given a number N, find the number of primes which are less than N and don't have digit 0 in them.",
      "provenance": [],
      "authorship_tag": "ABX9TyNPNA3Em6Y29Zq9efO1ZIE6",
      "include_colab_link": true
    },
    "kernelspec": {
      "name": "python3",
      "display_name": "Python 3"
    },
    "language_info": {
      "name": "python"
    }
  },
  "cells": [
    {
      "cell_type": "markdown",
      "metadata": {
        "id": "view-in-github",
        "colab_type": "text"
      },
      "source": [
        "<a href=\"https://colab.research.google.com/github/rajdas2001/Code-Prep/blob/main/Given_a_number_N%2C_find_the_number_of_primes_which_are_less_than_N_and_don't_have_digit_0_in_them_.ipynb\" target=\"_parent\"><img src=\"https://colab.research.google.com/assets/colab-badge.svg\" alt=\"Open In Colab\"/></a>"
      ]
    },
    {
      "cell_type": "markdown",
      "metadata": {
        "id": "_hQELP6NXFOC"
      },
      "source": [
        "Q. Given a number N, find the number of primes which are less than N and don't have digit 0 in them."
      ]
    },
    {
      "cell_type": "code",
      "metadata": {
        "colab": {
          "base_uri": "https://localhost:8080/"
        },
        "id": "3T68Jkn4ULfY",
        "outputId": "af931db3-4992-4ac1-8de0-5039c92098f7"
      },
      "source": [
        "def checkprime(n):\n",
        "  a = int(n)\n",
        "  ctr = 0\n",
        "  for i in range(1, a+1):\n",
        "    if a % i == 0:\n",
        "      ctr = ctr + 1\n",
        "  if ctr > 2:\n",
        "    return 0\n",
        "  else:\n",
        "    return 1\n",
        "def digZero(n):\n",
        "  s = str(n)\n",
        "  if '0' in s:\n",
        "    return 0\n",
        "  else: \n",
        "    return 1\n",
        "\n",
        "number  = int(input())\n",
        "ctr = 0\n",
        "for i in range(number):\n",
        "  if checkprime(i) == 1 and digZero(i) == 1:\n",
        "    print(i)\n",
        "    ctr = ctr + 1\n",
        "print(ctr)\n"
      ],
      "execution_count": 6,
      "outputs": [
        {
          "output_type": "stream",
          "text": [
            "23\n",
            "1\n",
            "2\n",
            "3\n",
            "5\n",
            "7\n",
            "11\n",
            "13\n",
            "17\n",
            "19\n",
            "9\n"
          ],
          "name": "stdout"
        }
      ]
    },
    {
      "cell_type": "code",
      "metadata": {
        "colab": {
          "base_uri": "https://localhost:8080/"
        },
        "id": "VBWKHeBoVGhe",
        "outputId": "f5e409ed-bb1e-4000-a7bb-5ab2dc373b96"
      },
      "source": [
        "s = 'Raj'\n",
        "if 'X' in s:\n",
        "  print(\"True\")\n",
        "else:\n",
        "  print(False)"
      ],
      "execution_count": 2,
      "outputs": [
        {
          "output_type": "stream",
          "text": [
            "False\n"
          ],
          "name": "stdout"
        }
      ]
    }
  ]
}