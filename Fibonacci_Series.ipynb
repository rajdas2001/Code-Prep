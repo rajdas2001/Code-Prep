{
  "nbformat": 4,
  "nbformat_minor": 0,
  "metadata": {
    "colab": {
      "name": "Fibonacci Series.ipynb",
      "provenance": [],
      "authorship_tag": "ABX9TyPE+dDg/NflKhGy9Cd9g71O",
      "include_colab_link": true
    },
    "kernelspec": {
      "name": "python3",
      "display_name": "Python 3"
    },
    "language_info": {
      "name": "python"
    }
  },
  "cells": [
    {
      "cell_type": "markdown",
      "metadata": {
        "id": "view-in-github",
        "colab_type": "text"
      },
      "source": [
        "<a href=\"https://colab.research.google.com/github/rajdas2001/Code-Prep/blob/main/Fibonacci_Series.ipynb\" target=\"_parent\"><img src=\"https://colab.research.google.com/assets/colab-badge.svg\" alt=\"Open In Colab\"/></a>"
      ]
    },
    {
      "cell_type": "markdown",
      "metadata": {
        "id": "f9bjeE72u1yk"
      },
      "source": [
        "Fibonacci Series without using Recursion"
      ]
    },
    {
      "cell_type": "code",
      "metadata": {
        "colab": {
          "base_uri": "https://localhost:8080/"
        },
        "id": "IUKL4n29utBE",
        "outputId": "421309c5-46e6-4919-d1fd-0baa61972382"
      },
      "source": [
        "n = int(input(\"Enter the number of terms: \"))\n",
        "a = [0,1]\n",
        "for i in range(n-2):\n",
        "  a.append(a[i]+a[i+1])\n",
        "print(a)\n",
        "\n",
        "print(\"Sum is \"+str(sum(a)))"
      ],
      "execution_count": null,
      "outputs": [
        {
          "output_type": "stream",
          "text": [
            "Enter the number of terms: 8\n",
            "[0, 1, 1, 2, 3, 5, 8, 13]\n",
            "Sum is 33\n"
          ],
          "name": "stdout"
        }
      ]
    },
    {
      "cell_type": "markdown",
      "metadata": {
        "id": "0DkYRrcfvzZC"
      },
      "source": [
        "Fibonacci Series using Recursion"
      ]
    },
    {
      "cell_type": "code",
      "metadata": {
        "colab": {
          "base_uri": "https://localhost:8080/"
        },
        "id": "VZRuibp-v6lN",
        "outputId": "19c07315-3df6-4f7c-cbdc-d51be648708d"
      },
      "source": [
        "def fib(n):\n",
        "  if n<=1:\n",
        "    return n\n",
        "  else:\n",
        "    return (fib(n-1)+fib(n-2))\n",
        "n = int(input(\"Enter the number of terms: \"))\n",
        "for i in range(n):\n",
        "  print(fib(i))"
      ],
      "execution_count": null,
      "outputs": [
        {
          "output_type": "stream",
          "text": [
            "Enter the number of terms: 8\n",
            "0\n",
            "1\n",
            "1\n",
            "2\n",
            "3\n",
            "5\n",
            "8\n",
            "13\n"
          ],
          "name": "stdout"
        }
      ]
    }
  ]
}