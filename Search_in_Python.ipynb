{
  "nbformat": 4,
  "nbformat_minor": 0,
  "metadata": {
    "colab": {
      "name": "Search in Python",
      "provenance": [],
      "authorship_tag": "ABX9TyNgiuvtIkUV4g9zzr53RMrX",
      "include_colab_link": true
    },
    "kernelspec": {
      "display_name": "Python 3",
      "name": "python3"
    },
    "language_info": {
      "name": "python"
    }
  },
  "cells": [
    {
      "cell_type": "markdown",
      "metadata": {
        "id": "view-in-github",
        "colab_type": "text"
      },
      "source": [
        "<a href=\"https://colab.research.google.com/github/rajdas2001/Code-Prep/blob/main/Search_in_Python.ipynb\" target=\"_parent\"><img src=\"https://colab.research.google.com/assets/colab-badge.svg\" alt=\"Open In Colab\"/></a>"
      ]
    },
    {
      "cell_type": "code",
      "metadata": {
        "id": "QydoXl-xZMh2",
        "colab": {
          "base_uri": "https://localhost:8080/"
        },
        "outputId": "912b4e5d-d3b1-404b-e73f-4c615c5327f2"
      },
      "source": [
        "#Linear Search\n",
        "\n",
        "numbers = [int(n) for n in input().split()]\n",
        "n = int(input())\n",
        "for i in range(len(numbers)):\n",
        "  if n == numbers[i]:\n",
        "    print(str(n) + \" found at index \" + str(i))"
      ],
      "execution_count": null,
      "outputs": [
        {
          "output_type": "stream",
          "name": "stdout",
          "text": [
            " 3 2 4 5 1 8 9 7\n",
            "8\n",
            "8 found at index 5\n"
          ]
        }
      ]
    },
    {
      "cell_type": "code",
      "metadata": {
        "colab": {
          "base_uri": "https://localhost:8080/"
        },
        "id": "d5GyA9Fil66X",
        "outputId": "18cc3ead-f7b6-4b7d-c7c7-546f388020fe"
      },
      "source": [
        "def binarySearch(arr, item, beg, end):\n",
        "    while beg <= end:\n",
        "        mid = beg + (end - beg)//2\n",
        "        if arr[mid] == item:\n",
        "            return mid\n",
        "        elif arr[mid] > item:\n",
        "            beg = mid + 1\n",
        "        else:\n",
        "            end = mid - 1\n",
        "    return -1\n",
        "\n",
        "arr = [13, 45, 65, 16, 117, 82, 19]\n",
        "item = 45\n",
        "\n",
        "ans = binarySearch(arr, item, 0, len(arr)-1)\n",
        "\n",
        "if ans != -1:\n",
        "    print(\"answer: \" + str(ans))\n",
        "else:\n",
        "    print(\"Element not present\")"
      ],
      "execution_count": null,
      "outputs": [
        {
          "output_type": "stream",
          "name": "stdout",
          "text": [
            "answer: 1\n"
          ]
        }
      ]
    },
    {
      "cell_type": "code",
      "metadata": {
        "colab": {
          "base_uri": "https://localhost:8080/"
        },
        "id": "bt9pgLPtqgmt",
        "outputId": "2fd581d4-98c9-46e3-b723-cfdce3170405"
      },
      "source": [
        "def binary_search(arr, item):\n",
        "  beg = 0\n",
        "  end = len(arr) - 1\n",
        "  while beg <= end:\n",
        "    mid = beg + (end - beg)//2\n",
        "    if arr[mid] == item:\n",
        "      return mid\n",
        "    elif arr[mid] > item:\n",
        "      beg = mid + 1\n",
        "    else:\n",
        "      end = mid - 1\n",
        "  return -1\n",
        "\n",
        "numbers = [int(n) for n in input().split()]\n",
        "val = int(input(\"Enter the number to be found: \"))\n",
        "\n",
        "res = binary_search(numbers, val)\n",
        "\n",
        "print(str(val) + \" found at index: \" + str(res))"
      ],
      "execution_count": 6,
      "outputs": [
        {
          "output_type": "stream",
          "name": "stdout",
          "text": [
            "1 2 3 4 5 6\n",
            "Enter the number to be found: 3\n",
            "3 found at index: 2\n"
          ]
        }
      ]
    }
  ]
}