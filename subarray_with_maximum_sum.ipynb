{
  "nbformat": 4,
  "nbformat_minor": 0,
  "metadata": {
    "colab": {
      "name": "subarray with maximum sum",
      "provenance": [],
      "authorship_tag": "ABX9TyNq585eO67Gfijh1N24JAut",
      "include_colab_link": true
    },
    "kernelspec": {
      "name": "python3",
      "display_name": "Python 3"
    },
    "language_info": {
      "name": "python"
    }
  },
  "cells": [
    {
      "cell_type": "markdown",
      "metadata": {
        "id": "view-in-github",
        "colab_type": "text"
      },
      "source": [
        "<a href=\"https://colab.research.google.com/github/rajdas2001/Code-Prep/blob/main/subarray_with_maximum_sum.ipynb\" target=\"_parent\"><img src=\"https://colab.research.google.com/assets/colab-badge.svg\" alt=\"Open In Colab\"/></a>"
      ]
    },
    {
      "cell_type": "markdown",
      "metadata": {
        "id": "OdYpLvaifQEv"
      },
      "source": [
        "# Largest Subarray Sum"
      ]
    },
    {
      "cell_type": "code",
      "metadata": {
        "colab": {
          "base_uri": "https://localhost:8080/"
        },
        "id": "mUdZSAL4epxm",
        "outputId": "a24a99f1-d87c-4bce-d16e-1614a0623333"
      },
      "source": [
        "a = [int(n) for n in input().split()]\n",
        "curr_sum = a[0]\n",
        "max_so_far = a[0]\n",
        "for i in range(1,len(a)):\n",
        "  curr_sum = max(a[i],curr_sum+a[i])\n",
        "  max_so_far = max(curr_sum, max_so_far)\n",
        "print(max_so_far)"
      ],
      "execution_count": 2,
      "outputs": [
        {
          "output_type": "stream",
          "name": "stdout",
          "text": [
            "1 2 3 -4 5\n",
            "7\n"
          ]
        }
      ]
    }
  ]
}