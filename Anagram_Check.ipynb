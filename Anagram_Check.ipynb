{
  "nbformat": 4,
  "nbformat_minor": 0,
  "metadata": {
    "colab": {
      "name": "Anagram Check",
      "provenance": [],
      "authorship_tag": "ABX9TyO6QvsaETgRcMk+Y/mjeyef",
      "include_colab_link": true
    },
    "kernelspec": {
      "name": "python3",
      "display_name": "Python 3"
    },
    "language_info": {
      "name": "python"
    }
  },
  "cells": [
    {
      "cell_type": "markdown",
      "metadata": {
        "id": "view-in-github",
        "colab_type": "text"
      },
      "source": [
        "<a href=\"https://colab.research.google.com/github/rajdas2001/Code-Prep/blob/main/Anagram_Check.ipynb\" target=\"_parent\"><img src=\"https://colab.research.google.com/assets/colab-badge.svg\" alt=\"Open In Colab\"/></a>"
      ]
    },
    {
      "cell_type": "markdown",
      "metadata": {
        "id": "LQrP6UkwQGfF"
      },
      "source": [
        "# Anagram Check\n",
        "Write a function to check whether two given strings are anagram of each other or not. An anagram of a string is another string that contains the same characters, only the order of characters can be different. For example, “abcd” and “dabc” are an anagram of each other."
      ]
    },
    {
      "cell_type": "code",
      "metadata": {
        "colab": {
          "base_uri": "https://localhost:8080/"
        },
        "id": "JMBrHEllQEdb",
        "outputId": "3f2aa1da-dad9-4ea9-d37d-2abb2f643717"
      },
      "source": [
        "# Python program to check whether two strings are\n",
        "# anagrams of each other\n",
        "\n",
        "# function to check whether two strings are anagram\n",
        "# of each other\n",
        "\n",
        "\n",
        "def areAnagram(str1, str2):\n",
        "\t# Get lengths of both strings\n",
        "\tl1 = len(str1)\n",
        "\tl2 = len(str2)\n",
        "\n",
        "\t# If lenght of both strings is not same, then they can not be anagram of \n",
        "  # each other\n",
        "\tif l1 != l2:\n",
        "\t\treturn 0\n",
        "\n",
        "\t# Sort both strings\n",
        "\tstr1 = sorted(str1)\n",
        "\tstr2 = sorted(str2)\n",
        "\n",
        "\t# Compare sorted strings\n",
        "\tfor i in range(0, l1):\n",
        "\t\tif str1[i] != str2[i]:\n",
        "\t\t\treturn 0\n",
        "\n",
        "\treturn 1\n",
        "\n",
        "\n",
        "str1 = input(\"Enter String 1 \")\n",
        "str2 = input(\"Enter String 2 \")\n",
        "\n",
        "\n",
        "if areAnagram(str1, str2):\n",
        "\tprint(\"The two strings are anagram of each other\")\n",
        "else:\n",
        "\tprint(\"The two strings are not anagram of each other\")\n"
      ],
      "execution_count": 5,
      "outputs": [
        {
          "output_type": "stream",
          "text": [
            "Enter String 1 abc\n",
            "Enter String 2 cba\n",
            "The two strings are anagram of each other\n"
          ],
          "name": "stdout"
        }
      ]
    },
    {
      "cell_type": "code",
      "metadata": {
        "id": "1eG7LgLbRxRr"
      },
      "source": [
        ""
      ],
      "execution_count": null,
      "outputs": []
    }
  ]
}