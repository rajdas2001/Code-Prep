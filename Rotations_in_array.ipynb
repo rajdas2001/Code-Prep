{
  "nbformat": 4,
  "nbformat_minor": 0,
  "metadata": {
    "colab": {
      "name": "Rotations in array",
      "provenance": [],
      "authorship_tag": "ABX9TyO6bbB+n90iiE9AxumTaALl",
      "include_colab_link": true
    },
    "kernelspec": {
      "name": "python3",
      "display_name": "Python 3"
    },
    "language_info": {
      "name": "python"
    }
  },
  "cells": [
    {
      "cell_type": "markdown",
      "metadata": {
        "id": "view-in-github",
        "colab_type": "text"
      },
      "source": [
        "<a href=\"https://colab.research.google.com/github/rajdas2001/Code-Prep/blob/main/Rotations_in_array.ipynb\" target=\"_parent\"><img src=\"https://colab.research.google.com/assets/colab-badge.svg\" alt=\"Open In Colab\"/></a>"
      ]
    },
    {
      "cell_type": "markdown",
      "metadata": {
        "id": "wCmGX4LGgb4t"
      },
      "source": [
        "# Left Rotation by d places"
      ]
    },
    {
      "cell_type": "code",
      "metadata": {
        "colab": {
          "base_uri": "https://localhost:8080/"
        },
        "id": "tapDrylzejPJ",
        "outputId": "70e46497-eb5f-4a6d-c825-3a01016af8f4"
      },
      "source": [
        "numbers  = [int(n) for n in input().split()]\n",
        "d = int(input())\n",
        "\n",
        "print(\"Array before rotation is: \")\n",
        "print(numbers)\n",
        "print(\"Array after rotation is: \")\n",
        "print(numbers[d:]+numbers[:d])"
      ],
      "execution_count": 1,
      "outputs": [
        {
          "output_type": "stream",
          "name": "stdout",
          "text": [
            "1 2 3 4 5\n",
            "2\n",
            "Array before rotation is: \n",
            "[1, 2, 3, 4, 5]\n",
            "Array after rotation is: \n",
            "[3, 4, 5, 1, 2]\n"
          ]
        }
      ]
    },
    {
      "cell_type": "markdown",
      "metadata": {
        "id": "NY1n2-WUgf-F"
      },
      "source": [
        "# Right rotation by d places"
      ]
    },
    {
      "cell_type": "code",
      "metadata": {
        "colab": {
          "base_uri": "https://localhost:8080/"
        },
        "id": "E_l_1XFQglLd",
        "outputId": "404fb5ff-0cb5-4218-fca5-83b28c102e4d"
      },
      "source": [
        "numbers = [int(n) for n in input().split()]\n",
        "d = int(input())\n",
        "print(\"Array before rotation is: \")\n",
        "print(numbers)\n",
        "print(\"Array after rotation is: \")\n",
        "print(numbers[-d:]+numbers[:-d])"
      ],
      "execution_count": 3,
      "outputs": [
        {
          "output_type": "stream",
          "name": "stdout",
          "text": [
            "1 2 3 4 5\n",
            "1\n",
            "Array before rotation is: \n",
            "[1, 2, 3, 4, 5]\n",
            "Array after rotation is: \n",
            "[5, 1, 2, 3, 4]\n"
          ]
        }
      ]
    },
    {
      "cell_type": "code",
      "metadata": {
        "colab": {
          "base_uri": "https://localhost:8080/"
        },
        "id": "5r51rAM9hOXP",
        "outputId": "5cde77db-c96e-4a07-ce37-4f15acd9a14c"
      },
      "source": [
        "def rightrotate(arr,d):\n",
        "  return arr[-d:]+arr[:-d]\n",
        "a = [1,2,3,4,5]\n",
        "val = rightrotate(a,1)\n",
        "print(val)"
      ],
      "execution_count": 4,
      "outputs": [
        {
          "output_type": "stream",
          "name": "stdout",
          "text": [
            "[5, 1, 2, 3, 4]\n"
          ]
        }
      ]
    }
  ]
}