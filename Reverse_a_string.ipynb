{
  "nbformat": 4,
  "nbformat_minor": 0,
  "metadata": {
    "colab": {
      "name": "Reverse a string.ipynb",
      "provenance": [],
      "authorship_tag": "ABX9TyMSglrvs2ZXMTHkaoMIOvxs",
      "include_colab_link": true
    },
    "kernelspec": {
      "name": "python3",
      "display_name": "Python 3"
    },
    "language_info": {
      "name": "python"
    }
  },
  "cells": [
    {
      "cell_type": "markdown",
      "metadata": {
        "id": "view-in-github",
        "colab_type": "text"
      },
      "source": [
        "<a href=\"https://colab.research.google.com/github/rajdas2001/Code-Prep/blob/main/Reverse_a_string.ipynb\" target=\"_parent\"><img src=\"https://colab.research.google.com/assets/colab-badge.svg\" alt=\"Open In Colab\"/></a>"
      ]
    },
    {
      "cell_type": "markdown",
      "metadata": {
        "id": "xWoJi4SpFi7B"
      },
      "source": [
        "Q. Reverse a string"
      ]
    },
    {
      "cell_type": "code",
      "metadata": {
        "colab": {
          "base_uri": "https://localhost:8080/"
        },
        "id": "X6I6e7tAFWMY",
        "outputId": "913899a3-dde5-4126-cf69-5adf276e291c"
      },
      "source": [
        "s = 'abcd'\n",
        "rs = s[::-1]\n",
        "print(s)\n",
        "print(rs)"
      ],
      "execution_count": 1,
      "outputs": [
        {
          "output_type": "stream",
          "text": [
            "abcd\n",
            "dcba\n"
          ],
          "name": "stdout"
        }
      ]
    }
  ]
}