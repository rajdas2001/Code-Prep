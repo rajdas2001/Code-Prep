{
  "nbformat": 4,
  "nbformat_minor": 0,
  "metadata": {
    "colab": {
      "name": "Count Distinct Elements in the array",
      "provenance": [],
      "authorship_tag": "ABX9TyP113+4iSjNvtjOBhtsBNXM",
      "include_colab_link": true
    },
    "kernelspec": {
      "name": "python3",
      "display_name": "Python 3"
    },
    "language_info": {
      "name": "python"
    }
  },
  "cells": [
    {
      "cell_type": "markdown",
      "metadata": {
        "id": "view-in-github",
        "colab_type": "text"
      },
      "source": [
        "<a href=\"https://colab.research.google.com/github/rajdas2001/Code-Prep/blob/main/Count_Distinct_Elements_in_the_array.ipynb\" target=\"_parent\"><img src=\"https://colab.research.google.com/assets/colab-badge.svg\" alt=\"Open In Colab\"/></a>"
      ]
    },
    {
      "cell_type": "markdown",
      "metadata": {
        "id": "P0wLbO1_0z1v"
      },
      "source": [
        "# Count Distinct Elements in the array\n",
        "\n",
        "https://www.youtube.com/watch?v=raovHs0qifM"
      ]
    },
    {
      "cell_type": "code",
      "metadata": {
        "colab": {
          "base_uri": "https://localhost:8080/"
        },
        "id": "XmPZXvv3C4eM",
        "outputId": "7239fdfd-d606-4a2e-88e5-251c0990a19c"
      },
      "source": [
        "numbers = [int(n) for n in input().split()]\n",
        "print(numbers)\n",
        "\n",
        "s = set(numbers)\n",
        "length = len(s)\n",
        "print(s)\n",
        "print(length)"
      ],
      "execution_count": null,
      "outputs": [
        {
          "output_type": "stream",
          "text": [
            "1 2 2 3 4 4 4 5 6 7 8\n",
            "[1, 2, 2, 3, 4, 4, 4, 5, 6, 7, 8]\n",
            "{1, 2, 3, 4, 5, 6, 7, 8}\n",
            "8\n"
          ],
          "name": "stdout"
        }
      ]
    },
    {
      "cell_type": "code",
      "metadata": {
        "id": "9DUGe4fy3T5k"
      },
      "source": [
        ""
      ],
      "execution_count": null,
      "outputs": []
    }
  ]
}