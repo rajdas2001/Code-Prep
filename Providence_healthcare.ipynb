{
  "nbformat": 4,
  "nbformat_minor": 0,
  "metadata": {
    "colab": {
      "name": "Providence healthcare.ipynb",
      "provenance": [],
      "authorship_tag": "ABX9TyMfQ1o0d32cozzsSvqwaFw/",
      "include_colab_link": true
    },
    "kernelspec": {
      "name": "python3",
      "display_name": "Python 3"
    },
    "language_info": {
      "name": "python"
    }
  },
  "cells": [
    {
      "cell_type": "markdown",
      "metadata": {
        "id": "view-in-github",
        "colab_type": "text"
      },
      "source": [
        "<a href=\"https://colab.research.google.com/github/rajdas2001/Code-Prep/blob/main/Providence_healthcare.ipynb\" target=\"_parent\"><img src=\"https://colab.research.google.com/assets/colab-badge.svg\" alt=\"Open In Colab\"/></a>"
      ]
    },
    {
      "cell_type": "code",
      "metadata": {
        "colab": {
          "base_uri": "https://localhost:8080/"
        },
        "id": "18UBPNWWmazp",
        "outputId": "5c5bd039-14a5-4839-991e-8ae289d4e90c"
      },
      "source": [
        "n = int(input())\n",
        "arr = []\n",
        "for i in range(n):\n",
        "  a = int(input())\n",
        "  arr.append(a)\n",
        "  b = int(input())\n",
        "  arr.append(b)\n",
        "  c = int(input())\n",
        "  arr.append(c)\n",
        "  numbers = [int(n) for n in input().split()]\n",
        "  arr.append(numbers)\n",
        "l = set(arr[-1])\n",
        "siz = len(l)\n",
        "val = siz - arr[1]\n",
        "for i in range(n):\n",
        "  print(val*arr[2])"
      ],
      "execution_count": null,
      "outputs": [
        {
          "output_type": "stream",
          "text": [
            "1\n",
            "4\n",
            "2\n",
            "5\n",
            "1 2 3 1\n",
            "5\n"
          ],
          "name": "stdout"
        }
      ]
    },
    {
      "cell_type": "code",
      "metadata": {
        "id": "v8JK3Haacm5Z"
      },
      "source": [
        ""
      ],
      "execution_count": null,
      "outputs": []
    }
  ]
}