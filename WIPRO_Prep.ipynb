{
  "nbformat": 4,
  "nbformat_minor": 0,
  "metadata": {
    "colab": {
      "name": "WIPRO Prep",
      "provenance": [],
      "authorship_tag": "ABX9TyPJfQaEP398YodSqlbkOcqT",
      "include_colab_link": true
    },
    "kernelspec": {
      "display_name": "Python 3",
      "name": "python3"
    },
    "language_info": {
      "name": "python"
    }
  },
  "cells": [
    {
      "cell_type": "markdown",
      "metadata": {
        "id": "view-in-github",
        "colab_type": "text"
      },
      "source": [
        "<a href=\"https://colab.research.google.com/github/rajdas2001/Code-Prep/blob/main/WIPRO_Prep.ipynb\" target=\"_parent\"><img src=\"https://colab.research.google.com/assets/colab-badge.svg\" alt=\"Open In Colab\"/></a>"
      ]
    },
    {
      "cell_type": "markdown",
      "metadata": {
        "id": "1ToFvCz3-FDH"
      },
      "source": [
        "# Bubble Sort \n",
        "\n",
        "* Non Recursive \n",
        "* Stable\n",
        "* In Place\n",
        "* Time Complexity: O(n)^2"
      ]
    },
    {
      "cell_type": "code",
      "metadata": {
        "id": "HXkKwIUtJxcT",
        "colab": {
          "base_uri": "https://localhost:8080/"
        },
        "outputId": "fd032524-3391-482a-8cb2-6dc716d08f71"
      },
      "source": [
        "def bubblesort(arr):\n",
        "  n = len(arr)\n",
        "  for i in range(n-1):\n",
        "    for j in range(n-1-i):\n",
        "      if arr[j] > arr[j+1]:\n",
        "        arr[j],arr[j+1] = arr[j+1],arr[j]\n",
        "a = [6,5,1,2,3,7]\n",
        "bubblesort(a)\n",
        "print(a)"
      ],
      "execution_count": null,
      "outputs": [
        {
          "output_type": "stream",
          "name": "stdout",
          "text": [
            "[1, 2, 3, 5, 6, 7]\n"
          ]
        }
      ]
    },
    {
      "cell_type": "code",
      "metadata": {
        "colab": {
          "base_uri": "https://localhost:8080/"
        },
        "id": "sIPWMWNF6YyG",
        "outputId": "5c7c2225-6e1c-4c9a-ae49-961448d99b3c"
      },
      "source": [
        "n = int(input())\n",
        "temp = n\n",
        "s = 0\n",
        "while temp > 0:\n",
        "  digit = temp % 10\n",
        "  s = s + digit**3\n",
        "  temp = temp // 10\n",
        "if s == n:\n",
        "  print(\"Armstrong Number\")\n",
        "else:\n",
        "  print(\"Not an Armstrong Number\")"
      ],
      "execution_count": null,
      "outputs": [
        {
          "output_type": "stream",
          "name": "stdout",
          "text": [
            "153\n",
            "Armstrong Number\n"
          ]
        }
      ]
    },
    {
      "cell_type": "code",
      "metadata": {
        "colab": {
          "base_uri": "https://localhost:8080/"
        },
        "id": "-OBtU_O2AcJS",
        "outputId": "420444ee-65d5-4ba3-d0a2-2ac1547e1fe9"
      },
      "source": [
        "a = [0,1]\n",
        "n = int(input())\n",
        "new_term = 0\n",
        "for i in range(n-2):\n",
        "  new_term = a[i] + a[i+1]\n",
        "  a.append(new_term)\n",
        "print(a)"
      ],
      "execution_count": null,
      "outputs": [
        {
          "output_type": "stream",
          "name": "stdout",
          "text": [
            "8\n",
            "[0, 1, 1, 2, 3, 5, 8, 13]\n"
          ]
        }
      ]
    },
    {
      "cell_type": "code",
      "metadata": {
        "colab": {
          "base_uri": "https://localhost:8080/"
        },
        "id": "qPzm6wvODdOp",
        "outputId": "23e9716a-09e2-4ff8-9303-c30f5491af7f"
      },
      "source": [
        "def fib(n):\n",
        "  if n <= 1:\n",
        "    return n\n",
        "  else:\n",
        "    return (fib(n-1)+fib(n-2))\n",
        "\n",
        "n = int(input())\n",
        "val = 0\n",
        "arr = []\n",
        "for i in range(n):\n",
        "  val = fib(i)\n",
        "  arr.append(val)\n",
        "print(arr)"
      ],
      "execution_count": null,
      "outputs": [
        {
          "output_type": "stream",
          "name": "stdout",
          "text": [
            "8\n",
            "[0, 1, 1, 2, 3, 5, 8, 13]\n"
          ]
        }
      ]
    },
    {
      "cell_type": "code",
      "metadata": {
        "colab": {
          "base_uri": "https://localhost:8080/"
        },
        "id": "-_mvrmUeJrZO",
        "outputId": "54e60685-2a7d-4fcc-dc56-98055fe695a6"
      },
      "source": [
        "#Left Array Rotation\n",
        "\n",
        "n = int(input())\n",
        "a = [1,2,3,4,5]\n",
        "\n",
        "print(a[n:] + a[:n])"
      ],
      "execution_count": null,
      "outputs": [
        {
          "output_type": "stream",
          "name": "stdout",
          "text": [
            "1\n",
            "[2, 3, 4, 5, 1]\n"
          ]
        }
      ]
    },
    {
      "cell_type": "code",
      "metadata": {
        "colab": {
          "base_uri": "https://localhost:8080/"
        },
        "id": "RXP_EfC_K99z",
        "outputId": "d0631183-ef95-4b92-a3d8-4126039514ba"
      },
      "source": [
        "#Right Array Rotation\n",
        "\n",
        "n = int(input())\n",
        "a = [1,2,3,4,5]\n",
        "\n",
        "print(a[-n:]+a[:-n])"
      ],
      "execution_count": null,
      "outputs": [
        {
          "output_type": "stream",
          "name": "stdout",
          "text": [
            "1\n",
            "[5, 1, 2, 3, 4]\n"
          ]
        }
      ]
    },
    {
      "cell_type": "code",
      "metadata": {
        "colab": {
          "base_uri": "https://localhost:8080/"
        },
        "id": "Fhfr9w6gogx0",
        "outputId": "36a40b38-ed77-46d1-bb75-c664d07deac5"
      },
      "source": [
        "arr = [1,2,3,4,5]\n",
        "l = len(arr)\n",
        "temp = 0\n",
        "for i in range(l//2):\n",
        "  temp = arr[i]\n",
        "  arr[i] = arr[l-i-1]\n",
        "  arr[l-i-1] = temp\n",
        "print(arr)"
      ],
      "execution_count": null,
      "outputs": [
        {
          "output_type": "stream",
          "name": "stdout",
          "text": [
            "[5, 4, 3, 2, 1]\n"
          ]
        }
      ]
    },
    {
      "cell_type": "code",
      "metadata": {
        "colab": {
          "base_uri": "https://localhost:8080/"
        },
        "id": "dNeeGg7iY0HR",
        "outputId": "80ab779b-cc0b-40bf-f189-cc5f29b1ee09"
      },
      "source": [
        "# encapsulation\n",
        "\n",
        "class base:\n",
        "  def __init__(self):\n",
        "    self.b = \"Raj\"\n",
        "    self.__c = \"Das\"\n",
        "class derived(base):\n",
        "  pass\n",
        "obj1 = base()\n",
        "print(obj1.b)\n",
        "#print(obj1.__c)\n",
        "    "
      ],
      "execution_count": null,
      "outputs": [
        {
          "output_type": "stream",
          "name": "stdout",
          "text": [
            "Raj\n"
          ]
        }
      ]
    },
    {
      "cell_type": "code",
      "metadata": {
        "colab": {
          "base_uri": "https://localhost:8080/"
        },
        "id": "8LEpM2CJZ41S",
        "outputId": "36ed60b2-544f-494f-e3b6-1816b0dace77"
      },
      "source": [
        "# inheritance\n",
        "class base:\n",
        "  def __init__(self,a):\n",
        "    self.a = a\n",
        "  def out(self):\n",
        "    print(self.a)\n",
        "class derived(base):\n",
        "  pass\n",
        "b1 = base(\"Tom\")\n",
        "b2 = derived(\"Jerry\")\n",
        "b2.out()\n"
      ],
      "execution_count": null,
      "outputs": [
        {
          "output_type": "stream",
          "name": "stdout",
          "text": [
            "Jerry\n"
          ]
        }
      ]
    },
    {
      "cell_type": "code",
      "metadata": {
        "colab": {
          "base_uri": "https://localhost:8080/"
        },
        "id": "dyLUtEUwa6WS",
        "outputId": "44c755e1-6948-4eb5-a14d-e83e51e77a15"
      },
      "source": [
        "class India():\n",
        "\tdef capital(self):\n",
        "\t\tprint(\"New Delhi is the capital of India.\")\n",
        "\n",
        "\tdef language(self):\n",
        "\t\tprint(\"Hindi is the most widely spoken language of India.\")\n",
        "\n",
        "\tdef type(self):\n",
        "\t\tprint(\"India is a developing country.\")\n",
        "\n",
        "class USA():\n",
        "\tdef capital(self):\n",
        "\t\tprint(\"Washington, D.C. is the capital of USA.\")\n",
        "\n",
        "\tdef language(self):\n",
        "\t\tprint(\"English is the primary language of USA.\")\n",
        "\n",
        "\tdef type(self):\n",
        "\t\tprint(\"USA is a developed country.\")\n",
        "\n",
        "obj_ind = India()\n",
        "obj_usa = USA()\n",
        "for country in (obj_ind, obj_usa):\n",
        "\tcountry.capital()\n",
        "\tcountry.language()\n",
        "\tcountry.type()\n"
      ],
      "execution_count": null,
      "outputs": [
        {
          "output_type": "stream",
          "name": "stdout",
          "text": [
            "New Delhi is the capital of India.\n",
            "Hindi is the most widely spoken language of India.\n",
            "India is a developing country.\n",
            "Washington, D.C. is the capital of USA.\n",
            "English is the primary language of USA.\n",
            "USA is a developed country.\n"
          ]
        }
      ]
    },
    {
      "cell_type": "code",
      "metadata": {
        "colab": {
          "base_uri": "https://localhost:8080/"
        },
        "id": "QQJY1CWRg30N",
        "outputId": "80830a36-d3d3-48ca-a74b-2c5aa4efc8dc"
      },
      "source": [
        "class india:\n",
        "  def capital(self):\n",
        "    print(\"ND\")\n",
        "  def language(self):\n",
        "    print(\"Hindi\")\n",
        "  def type(self):\n",
        "    print(\"Developing\")\n",
        "class usa:\n",
        "  def capital(self):\n",
        "    print(\"DC\")\n",
        "  def language(self):\n",
        "    print(\"English\")\n",
        "  def type(self):\n",
        "    print(\"Developed\")\n",
        "ob1 = india()\n",
        "ob2 = usa()\n",
        "for c in (ob1,ob2):\n",
        "  c.capital()\n",
        "  c.language()\n",
        "  c.type()"
      ],
      "execution_count": null,
      "outputs": [
        {
          "output_type": "stream",
          "name": "stdout",
          "text": [
            "ND\n",
            "Hindi\n",
            "Developing\n",
            "DC\n",
            "English\n",
            "Developed\n"
          ]
        }
      ]
    },
    {
      "cell_type": "code",
      "metadata": {
        "colab": {
          "base_uri": "https://localhost:8080/"
        },
        "id": "qa4jQjL23Grp",
        "outputId": "ff9fb9c2-f763-470a-b7c7-aa23c6a5157c"
      },
      "source": [
        "num = int(input())\n",
        "temp = num\n",
        "f = 1\n",
        "while temp > 0:\n",
        "  f = f * temp\n",
        "  temp = temp - 1\n",
        "print(f) "
      ],
      "execution_count": null,
      "outputs": [
        {
          "output_type": "stream",
          "name": "stdout",
          "text": [
            "3\n",
            "6\n"
          ]
        }
      ]
    }
  ]
}